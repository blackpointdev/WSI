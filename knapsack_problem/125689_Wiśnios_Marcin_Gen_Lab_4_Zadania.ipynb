{
 "cells": [
  {
   "cell_type": "markdown",
   "metadata": {
    "deletable": false,
    "editable": false,
    "nbgrader": {
     "checksum": "2878447ed9128508318a9c8416f4e7a3",
     "grade": false,
     "grade_id": "cell-982e98d0ad3ab544",
     "locked": true,
     "schema_version": 1,
     "solution": false
    }
   },
   "source": [
    "# Wstęp do Sztucznej Inteligencji - rok akademicki 2018/2019\n",
    "\n",
    "Przed rozpoczęciem pracy z notatnikiem zmień jego nazwę zgodnie z wzorem: `{NrAlbumu}_{Nazwisko}_{Imie}_{PoprzedniaNazwa}`.\n",
    "\n",
    "Przed wysłaniem notatnika upewnij się, że rozwiązałeś wszystkie zadania/ćwiczenia, w szczególności, że uzupełniłeś wszystkie pola `YOUR CODE HERE` oraz `YOUR ANSWER HERE`."
   ]
  },
  {
   "cell_type": "markdown",
   "metadata": {
    "deletable": false,
    "editable": false,
    "nbgrader": {
     "checksum": "9a437ebd76a9d17daac589c3467b81ee",
     "grade": false,
     "grade_id": "cell-0b2104075deb75b5",
     "locked": true,
     "schema_version": 1,
     "solution": false
    }
   },
   "source": [
    "## Temat: Algorytmy genetyczne - Lab 4 - Problem plecakowy - Zadania (obowiązkowe)\n",
    "Zapoznaj się z treścią niniejszego notatnika czytając i wykonując go komórka po komórce. Wykonaj napotkane zadania/ćwiczenia.\n",
    "\n",
    "### Problem plecakowy\n",
    "Problem plecakowy to problem optymalizacji dyskretnej. W swojej najprostszej wersji może być sformułowany następująco.\n",
    "\n",
    "Spośród `N` dostępnych przedmiotów możmy zabrać taką ich liczbę by suma ich wag nie przekraczała pewnej dopuszczalnej wartości (maksymalne obciążenie plecaka). Każdy przedmiot, oprócz wagi, ma przypisaną swoją wartość. \n",
    "\n",
    "Które przedmioty zbrać, aby ich sumaryczna wartość była jak największa, ale ich sumaryczna waga nie przekraczała dopuszczalnej maksymalnej wagi plecaka?\n",
    "\n",
    "Mamy zatem do czynienia z problemem optymalizacji z ograniczeniami.\n",
    "\n",
    "Przeczytaj więcej o problemie plecakowym:\n",
    "\n",
    "https://pl.wikipedia.org/wiki/Problem_plecakowy"
   ]
  },
  {
   "cell_type": "markdown",
   "metadata": {
    "deletable": false,
    "editable": false,
    "nbgrader": {
     "checksum": "7543172dd3b6affe21fe007190939d15",
     "grade": false,
     "grade_id": "cell-21d5156db0595f01",
     "locked": true,
     "schema_version": 1,
     "solution": false
    }
   },
   "source": [
    "### Prosty generator problemu plecakowego (0-1 knapsack problem)\n",
    "\n",
    "Generujemy listę przedmiotów, z losowymi wagami oraz wartościami z podanych przedziałów."
   ]
  },
  {
   "cell_type": "code",
   "execution_count": null,
   "metadata": {},
   "outputs": [],
   "source": [
    "import numpy as np\n",
    "import matplotlib.pyplot as plt\n",
    "#%matplotlib notebook\n",
    "\n",
    "#wmin - minimalna waga przedmiotu\n",
    "#wmax - maksymalna waga przedmiotu\n",
    "#vmin - minimalna wartość przedmiotu\n",
    "#vmax - maksymalna wartość przedmiotu\n",
    "#items_num - liczba dostępnych przedmiotów\n",
    "def generate_problem(wmin, wmax, vmin, vmax, items_num):\n",
    "    w = np.random.randint(wmin, wmax, size=items_num)  #weight\n",
    "    v = np.random.randint(vmin, vmax, size=items_num)  #values\n",
    "    return w, v"
   ]
  },
  {
   "cell_type": "markdown",
   "metadata": {
    "deletable": false,
    "editable": false,
    "nbgrader": {
     "checksum": "603a0b6d4e48f6e5f7bf10fc7d5a62ca",
     "grade": false,
     "grade_id": "cell-47e3f3ccdd80ba27",
     "locked": true,
     "schema_version": 1,
     "solution": false
    }
   },
   "source": [
    "Przykładowy problem plecakowy (zwróć uwagę, że możemy zagwarantować generowanie za każdym razem tego samego problemu poprzez ustawienie ziarna generatora liczb losowych)."
   ]
  },
  {
   "cell_type": "code",
   "execution_count": null,
   "metadata": {},
   "outputs": [],
   "source": [
    "num = 50  # liczba przedmiotów\n",
    "wmin = 1  # minimlana waga\n",
    "wmax = 100  # maksymalna waga\n",
    "vmin = 1  # minimalna wartosc\n",
    "vmax = 100  # maksymalna wartosc\n",
    "knapsack_perc = 0.5  # pojemnosc plecaka jako procent sumy wag wszystkich przedmiotow\n",
    "\n",
    "# ustawienie ziarna\n",
    "np.random.seed(1111)\n",
    "\n",
    "w, v = generate_problem(wmin, wmax, vmin, vmax, num)  # w - wagi, v - wartosci\n",
    "Wall = w.sum()\n",
    "Vall = v.sum()\n",
    "W = int(knapsack_perc * Wall) # pojemnosc plecaka\n",
    "\n",
    "print('Problem plecakowy:')\n",
    "print('pojemnosc plecaka:', W)\n",
    "print('wagi:',w, 'suma:', Wall)\n",
    "print('wartosci:',v, 'suma:', Vall)"
   ]
  },
  {
   "cell_type": "markdown",
   "metadata": {
    "deletable": false,
    "editable": false,
    "nbgrader": {
     "checksum": "46380949e84e9b5797a634f6a61c209e",
     "grade": false,
     "grade_id": "cell-c3836a0959319baf",
     "locked": true,
     "schema_version": 1,
     "solution": false
    }
   },
   "source": [
    "## Zadanie 1 (1pkt.) - rozwiązanie metodą brute force\n",
    "\n",
    "Mamy problem plecakowy ze 100 przedmiotami. Chcemy sprawdzić każde możliwe rozwiązanie. Jeśli w ciągu sekundy moglibysmy sprawdzić miliard rozwiązań, to ile lat by to trwało? Przyjmij, że rok ma 365 dni.\n",
    "\n",
    "Otrzymaną liczbę lat przypisz do zmiennej o nazwie `liczba_lat`. Wynik zaokrąglij do pełnych lat w dół."
   ]
  },
  {
   "cell_type": "code",
   "execution_count": 2,
   "metadata": {
    "deletable": false,
    "nbgrader": {
     "checksum": "079e4cbd82aa4631d819cea64e12870f",
     "grade": false,
     "grade_id": "cell-f8835c508eb05263",
     "locked": false,
     "schema_version": 1,
     "solution": true
    }
   },
   "outputs": [
    {
     "name": "stdout",
     "output_type": "stream",
     "text": [
      "Zajmie to: 40196936841331 lat\n"
     ]
    }
   ],
   "source": [
    "# YOUR CODE HERE\n",
    "liczba_lat = int(2**100 / 10**9 / 365 / 24 / 3600)\n",
    "print('Zajmie to: {} lat'.format(liczba_lat))"
   ]
  },
  {
   "cell_type": "code",
   "execution_count": null,
   "metadata": {
    "deletable": false,
    "editable": false,
    "nbgrader": {
     "checksum": "c4d783fe52753deec12ae41f294b2f9a",
     "grade": true,
     "grade_id": "cell-b1b62c493fa608f8",
     "locked": true,
     "points": 1,
     "schema_version": 1,
     "solution": false
    }
   },
   "outputs": [],
   "source": [
    "#Komórka z autotestem"
   ]
  },
  {
   "cell_type": "markdown",
   "metadata": {
    "deletable": false,
    "editable": false,
    "nbgrader": {
     "checksum": "cbd3bb35b34e2627cea1ae83814504d1",
     "grade": false,
     "grade_id": "cell-2969ad4b5b26e07e",
     "locked": true,
     "schema_version": 1,
     "solution": false
    }
   },
   "source": [
    "## Kodowanie rozwiązania\n",
    "\n",
    "Potencjalne rozwiązanie problemu plecakowego można zakodować jako wektor `0`/`1`, gdzie `1` oznacza wybranie przedmiotu do plecaka.\n",
    "\n",
    "Warto skorzystać z kodowania `True`/`False` i tablic `numpy`, gdyż ułatwi to obliczenia (macierze True/False mogą służyć do indeksowania innych macierzy).\n",
    "\n",
    "Przykładowo:"
   ]
  },
  {
   "cell_type": "code",
   "execution_count": null,
   "metadata": {},
   "outputs": [],
   "source": [
    "num = w.shape[0]\n",
    "sol = np.random.randint(0, 2, size=num, dtype=np.bool)  # True oznacza, ze przedmiot jest wybrany\n",
    "\n",
    "print('Rozwiązanie:', sol)\n",
    "print('Lista wybranych przedmiotow:', np.arange(num)[sol])\n",
    "print('Suma wag:', w[sol].sum())\n",
    "print('Suma wartosci:', v[sol].sum())"
   ]
  },
  {
   "cell_type": "markdown",
   "metadata": {
    "deletable": false,
    "editable": false,
    "nbgrader": {
     "checksum": "239d5ba270a3b52a57e076dc74284fde",
     "grade": false,
     "grade_id": "cell-30d37eeb3565a164",
     "locked": true,
     "schema_version": 1,
     "solution": false
    }
   },
   "source": [
    "## Rozwiązania dopuszczalne i niedopuszczalne - procedura naprawcza\n",
    "\n",
    "Jeśli suma wag przekracza pojemność plecaka, to rozwiązanie jest rozwiązaniem niedopuszczalnym i jest całkowicie nieprzydatne.\n",
    "\n",
    "Rozwiązanie niedopuszczalne można poddać procedurze naprawczej. Przykładowo, poniższa funkcja usuwa przedmioty z plecaka, dopóki nie powstanie rozwiązanie dopuszczalne."
   ]
  },
  {
   "cell_type": "code",
   "execution_count": null,
   "metadata": {},
   "outputs": [],
   "source": [
    "# Usuwa losowe przedmioty, aż rozwiązanie stanie się dopuszczalne\n",
    "# Jesli rowziazanie jest dopuszczlane, nie zostanie zmienione\n",
    "def correct_solution(w, v, W, sol):\n",
    "    num = w.shape[0]\n",
    "    while w[sol].sum() > W:\n",
    "        indx = np.random.randint(num)\n",
    "        while sol[indx%num] == False:\n",
    "            indx = indx + 1\n",
    "        sol[indx%num] = False"
   ]
  },
  {
   "cell_type": "markdown",
   "metadata": {
    "deletable": false,
    "editable": false,
    "nbgrader": {
     "checksum": "69800200760e5b8bbbeab9ee90d00c16",
     "grade": false,
     "grade_id": "cell-ee858832ed06e85f",
     "locked": true,
     "schema_version": 1,
     "solution": false
    }
   },
   "source": [
    "#### Przykładowa naprawa:"
   ]
  },
  {
   "cell_type": "code",
   "execution_count": null,
   "metadata": {},
   "outputs": [],
   "source": [
    "correct_solution(w, v, W, sol)\n",
    "\n",
    "print('Rozwiązanie:', sol)\n",
    "print('Lista wybranych przedmiotow:', np.arange(num)[sol])\n",
    "print('Suma wag:', w[sol].sum())\n",
    "print('Suma wartosci:', v[sol].sum())"
   ]
  },
  {
   "cell_type": "markdown",
   "metadata": {
    "deletable": false,
    "editable": false,
    "nbgrader": {
     "checksum": "4b178f81b62cb81617dc682abfcc258d",
     "grade": false,
     "grade_id": "cell-d9642f9f953d6f52",
     "locked": true,
     "schema_version": 1,
     "solution": false
    }
   },
   "source": [
    "## Losowe, dopuszczalne rozwiązania\n",
    "\n",
    "Bazując na powyższej procedurze, można zdefiniować funkcję generującą losowe, ale zawsze dopuszczalne rozwiązania."
   ]
  },
  {
   "cell_type": "code",
   "execution_count": null,
   "metadata": {},
   "outputs": [],
   "source": [
    "def get_random_solution(w, v, W):\n",
    "    num = w.shape[0]\n",
    "    sol = np.random.randint(0,2, size=num, dtype=np.bool)  # 1 / True oznacza, ze przedmiot jest wybrany\n",
    "    _V = np.sum(v[sol])\n",
    "    _W = np.sum(w[sol])\n",
    "    if _W > W:\n",
    "        correct_solution(w,v,W,sol)\n",
    "        _V = np.sum(v[sol])\n",
    "        _W = np.sum(w[sol])\n",
    "    return sol, _W, _V"
   ]
  },
  {
   "cell_type": "markdown",
   "metadata": {
    "deletable": false,
    "editable": false,
    "nbgrader": {
     "checksum": "febb26060f8e0d9513831e394d599dbc",
     "grade": false,
     "grade_id": "cell-1109ca21b43ceb7e",
     "locked": true,
     "schema_version": 1,
     "solution": false
    }
   },
   "source": [
    "#### Przykład użycia:"
   ]
  },
  {
   "cell_type": "code",
   "execution_count": null,
   "metadata": {},
   "outputs": [],
   "source": [
    "sol = get_random_solution(w,v,W)\n",
    "\n",
    "print('Rozwiązanie:', sol[0])\n",
    "print('Lista wybranych przedmiotow:', np.arange(num)[sol[0]])\n",
    "print('Suma wag:', sol[1])\n",
    "print('Suma wartosci:', sol[2])"
   ]
  },
  {
   "cell_type": "markdown",
   "metadata": {
    "deletable": false,
    "editable": false,
    "nbgrader": {
     "checksum": "fe6278173f58e5b79801719e32166509",
     "grade": false,
     "grade_id": "cell-c58855739e72bfed",
     "locked": true,
     "schema_version": 1,
     "solution": false
    }
   },
   "source": [
    "## Random search\n",
    "\n",
    "Powyższe funkcje można przełożyć na prostą heurystykę przeszukiwania losowego. Generujemy losowe (ale dopuszczalne) rozwiązania przez zadaną liczbę iteracji i zapamiętujemy najlepsze. Dodatkowo, zapisujemy oceny rozwiązań (wartość wszystkich przedmiotów w plecaku) by przedstawić je na wykresie."
   ]
  },
  {
   "cell_type": "code",
   "execution_count": null,
   "metadata": {},
   "outputs": [],
   "source": [
    "def search_random(w,v,W,iters):\n",
    "    best_sol, best_W, best_V = get_random_solution(w,v,W)\n",
    "    v_all = [best_V]\n",
    "    v_best = [best_V]\n",
    "    for i in range(iters):\n",
    "        sol, _W, _V = get_random_solution(w,v,W)\n",
    "        if best_V < _V:\n",
    "            best_sol, best_W, best_V = sol, _W, _V\n",
    "        v_all.append(_V)\n",
    "        v_best.append(best_V)\n",
    "    plt.figure()\n",
    "    plt.plot(v_all)\n",
    "    plt.plot(v_best)\n",
    "    plt.show()\n",
    "    return best_sol, best_W, best_V, v_all, v_best"
   ]
  },
  {
   "cell_type": "markdown",
   "metadata": {
    "deletable": false,
    "editable": false,
    "nbgrader": {
     "checksum": "1834a6fba514c5f6b94c3ff0ee778f82",
     "grade": false,
     "grade_id": "cell-abaadd5a2c76f259",
     "locked": true,
     "schema_version": 1,
     "solution": false
    }
   },
   "source": [
    "#### Przykładowe uruchomienie:"
   ]
  },
  {
   "cell_type": "code",
   "execution_count": null,
   "metadata": {},
   "outputs": [],
   "source": [
    "sol_random_search = search_random(w, v, W, 1000)\n",
    "\n",
    "print('Najlepsze rozwiązanie:',sol_random_search[0])\n",
    "print('Przedmioty:',np.arange(num)[sol_random_search[0]])\n",
    "print('Suma wag:', sol_random_search[1])\n",
    "print('Suma wartosci:', sol_random_search[2])"
   ]
  },
  {
   "cell_type": "markdown",
   "metadata": {
    "deletable": false,
    "editable": false,
    "nbgrader": {
     "checksum": "dce9e43f0916d277de56b8885481493a",
     "grade": false,
     "grade_id": "cell-2ad349a0ea9983a5",
     "locked": true,
     "schema_version": 1,
     "solution": false
    }
   },
   "source": [
    "## Greedy search - procedura optymalizacji zachłannej\n",
    "\n",
    "Problemem w powyższym podejściu jest fakt, że kolejne rozwiązania nie korzystają z uzyskanej już wiedzy o najlepszych do tej pory rozwiązaniach. Zatem inna prosta heurytyka polega na wystartowaniu z losowego rozwiązania, a następnie modyfikowaniu go poprzez losowe dodawanie przedmiotu do plecaka. Jeśli zmiana (po ewentualnej naprawie) wprowadza poprawę, pozostajemy przy takim rozwiązaniu, jeśli następuje pogorszenie, odrzucamy takie rozwiązanie i ponawiamy próbę.\n",
    "\n",
    "Taka procedura jest przykładem optymalizacji zachłannej."
   ]
  },
  {
   "cell_type": "code",
   "execution_count": null,
   "metadata": {},
   "outputs": [],
   "source": [
    "def search_greedy_improvement(w, v, W, iters):\n",
    "    best_sol, best_W, best_V = get_random_solution(w,v,W)\n",
    "    v_all = [best_V]\n",
    "    v_best = [best_V]\n",
    "    num = w.shape[0]\n",
    "    for i in range(iters):\n",
    "        sol = best_sol.copy()\n",
    "        #set random 0 bit to 1\n",
    "        indx = np.random.randint(num)\n",
    "        while sol[indx%num] == True:\n",
    "            indx = indx + 1\n",
    "        sol[indx%num] = True\n",
    "        #correct if needed\n",
    "        if w[sol].sum() > W:\n",
    "            correct_solution(w,v,W,sol)\n",
    "        _V = v[sol].sum()\n",
    "        _W = w[sol].sum()\n",
    "        if best_V < _V:\n",
    "            best_sol, best_W, best_V = sol.copy(), _W, _V\n",
    "        v_all.append(_V)\n",
    "        v_best.append(best_V)\n",
    "    plt.figure()\n",
    "    plt.plot(v_all)\n",
    "    plt.plot(v_best)\n",
    "    plt.show()\n",
    "    return best_sol, best_W, best_V, v_all, v_best "
   ]
  },
  {
   "cell_type": "markdown",
   "metadata": {
    "deletable": false,
    "editable": false,
    "nbgrader": {
     "checksum": "615139580bd465ffd20f6a7b7d9c53d2",
     "grade": false,
     "grade_id": "cell-f2676d9ac396c08b",
     "locked": true,
     "schema_version": 1,
     "solution": false
    }
   },
   "source": [
    "#### Przykładowe uruchomienie:"
   ]
  },
  {
   "cell_type": "code",
   "execution_count": null,
   "metadata": {},
   "outputs": [],
   "source": [
    "sol_greedy = search_greedy_improvement(w,v,W,1000)\n",
    "\n",
    "print('Najlepsze rozwiązanie:',sol_greedy[0])\n",
    "print('Przedmioty:',np.arange(num)[sol_greedy[0]])\n",
    "print('Suma wag:', sol_greedy[1])\n",
    "print('Suma wartosci:', sol_greedy[2])"
   ]
  },
  {
   "cell_type": "markdown",
   "metadata": {
    "deletable": false,
    "editable": false,
    "nbgrader": {
     "checksum": "7c6435f77dff4c56ac270746dfa44727",
     "grade": false,
     "grade_id": "cell-6e4e4383c146adcc",
     "locked": true,
     "schema_version": 1,
     "solution": false
    }
   },
   "source": [
    "## Dwie inne proste heurystyki\n",
    "\n",
    "### Najpierw najbardziej wartościowe\n",
    "\n",
    "Jak dobre rozwiązanie dostaniemy, jeśli do plecaka pakować będziemy najpierw najbardziej wartościowe przedmioty (o ile się zmieszczą)? Pomysł ten jest zaimplementowany w poniższej funkcji.\n"
   ]
  },
  {
   "cell_type": "code",
   "execution_count": null,
   "metadata": {},
   "outputs": [],
   "source": [
    "#Pakuje najpierw najbardziej wartościowe przedmioty\n",
    "def get_value_first(w, v, W):\n",
    "    ii = np.argsort(-v)\n",
    "    num = w.shape[0]\n",
    "    sol = np.repeat(False, num)\n",
    "    _W = 0\n",
    "    for i in range(num):\n",
    "        if _W + w[ii[i]] <= W:\n",
    "            sol[ii[i]] = True\n",
    "            _W = _W + w[ii[i]]\n",
    "    _V = v[sol].sum()\n",
    "    return sol, _W, _V"
   ]
  },
  {
   "cell_type": "markdown",
   "metadata": {
    "deletable": false,
    "editable": false,
    "nbgrader": {
     "checksum": "e61c96872ccc909c82032772d0ee884d",
     "grade": false,
     "grade_id": "cell-a5b5f7c7b27bcdaa",
     "locked": true,
     "schema_version": 1,
     "solution": false
    }
   },
   "source": [
    "#### Przykładowe uruchomienie:"
   ]
  },
  {
   "cell_type": "code",
   "execution_count": null,
   "metadata": {},
   "outputs": [],
   "source": [
    "sol_value_first = get_value_first(w, v, W)\n",
    "\n",
    "print('Najlepsze rozwiązanie:',sol_value_first[0])\n",
    "print('Przedmioty:',np.arange(num)[sol_value_first[0]])\n",
    "print('Suma wag:', sol_value_first[1])\n",
    "print('Suma wartosci:', sol_value_first[2])"
   ]
  },
  {
   "cell_type": "markdown",
   "metadata": {
    "deletable": false,
    "editable": false,
    "nbgrader": {
     "checksum": "5f5c20e17e74957c93c38201dbb2a3f1",
     "grade": false,
     "grade_id": "cell-e886da0864afaff7",
     "locked": true,
     "schema_version": 1,
     "solution": false
    }
   },
   "source": [
    "### Najpierw te o najlepszym stosunku wartości do wagi\n",
    "\n",
    "Inny pomysł to pakowanie najpierw przedmiotów o najlepszym stosunku wartości do wagi.\n"
   ]
  },
  {
   "cell_type": "code",
   "execution_count": null,
   "metadata": {},
   "outputs": [],
   "source": [
    "def get_ratio_first(w, v, W):\n",
    "    ii = np.argsort(-v/w) #stosunek wartosci do wagi\n",
    "    num = w.shape[0]\n",
    "    sol = np.repeat(False, num)\n",
    "    _W = 0\n",
    "    for i in range(num):\n",
    "        if _W + w[ii[i]] <= W:\n",
    "            sol[ii[i]] = True\n",
    "            _W = _W + w[ii[i]]\n",
    "    _V = v[sol].sum()\n",
    "    return sol, _W, _V"
   ]
  },
  {
   "cell_type": "markdown",
   "metadata": {
    "deletable": false,
    "editable": false,
    "nbgrader": {
     "checksum": "3c9a5bdc458f9877312203b26adc40fa",
     "grade": false,
     "grade_id": "cell-a712a02c4da5eec5",
     "locked": true,
     "schema_version": 1,
     "solution": false
    }
   },
   "source": [
    "#### Przykładowe uruchomienie:"
   ]
  },
  {
   "cell_type": "code",
   "execution_count": null,
   "metadata": {},
   "outputs": [],
   "source": [
    "sol_ratio_first = get_ratio_first(w, v, W)\n",
    "\n",
    "print('Najlepsze rozwiązanie:',sol_ratio_first[0])\n",
    "print('Przedmioty:',np.arange(num)[sol_ratio_first[0]])\n",
    "print('Suma wag:', sol_ratio_first[1])\n",
    "print('Suma wartosci:', sol_ratio_first[2])"
   ]
  },
  {
   "cell_type": "markdown",
   "metadata": {
    "deletable": false,
    "editable": false,
    "nbgrader": {
     "checksum": "8078b10c0c802bb82319da328e61dca5",
     "grade": false,
     "grade_id": "cell-13b54c7aa7c266b5",
     "locked": true,
     "schema_version": 1,
     "solution": false
    }
   },
   "source": [
    "## Zadanie 2 (3 pkt.)\n",
    "\n",
    "Opracowane być mogą inne procedury naprawcze. Przykładowo, dla rozwiązania niedopuszczalengo, zamiast zmieniać losowe bity True na False, jak w funkcji `correct_solution`, można usuwać najpierw te przedmioty, które mają najgorszy stosunek wartości do wagi. Zaimplementuj taką procedurę. \n",
    "\n",
    "Porównaj jej działanie z funkcją `correct_solution` w metodach RandomSearch oraz GreedySearch. Przedstaw uśrednione wyniki (co najmniej 10 uruchomień) i wnioski."
   ]
  },
  {
   "cell_type": "code",
   "execution_count": 1,
   "metadata": {
    "deletable": false,
    "nbgrader": {
     "checksum": "824516409639f04efa3d993886ff74de",
     "grade": false,
     "grade_id": "cell-41decf2c421327cc",
     "locked": false,
     "schema_version": 1,
     "solution": true
    }
   },
   "outputs": [
    {
     "name": "stdout",
     "output_type": "stream",
     "text": [
      "Greedy search\n",
      "\tSuma wag: 1286.5\n",
      "\tSuma wartosci: 2119.3\n",
      "Greedy search improved\n",
      "\tSuma wag: 1283.8\n",
      "\tSuma wartosci: 2146.5\n",
      "Random search\n",
      "\tSuma wag: 1263.1\n",
      "\tSuma wartosci: 1681.3\n",
      "Random search improved\n",
      "\tSuma wag: 1272.2\n",
      "\tSuma wartosci: 1898.0\n"
     ]
    }
   ],
   "source": [
    "import numpy as np\n",
    "import matplotlib.pyplot as plt\n",
    "#%matplotlib notebook\n",
    "\n",
    "#wmin - minimalna waga przedmiotu\n",
    "#wmax - maksymalna waga przedmiotu\n",
    "#vmin - minimalna wartość przedmiotu\n",
    "#vmax - maksymalna wartość przedmiotu\n",
    "#items_num - liczba dostępnych przedmiotów\n",
    "def generate_problem(wmin, wmax, vmin, vmax, items_num):\n",
    "    w = np.random.randint(wmin, wmax, size=items_num)  #weight\n",
    "    v = np.random.randint(vmin, vmax, size=items_num)  #values\n",
    "    return w, v\n",
    "\n",
    "def correct_solution(w, v, W, sol):\n",
    "    num = w.shape[0]\n",
    "    while w[sol].sum() > W:\n",
    "        indx = np.random.randint(num)\n",
    "        while sol[indx%num] == False:\n",
    "            indx = indx + 1\n",
    "        sol[indx%num] = False\n",
    "\n",
    "def correct_solution2(w, v, W, sol):\n",
    "    ratio = v/w\n",
    "    num = w.shape[0]\n",
    "    while w[sol].sum() > W:\n",
    "        while True:\n",
    "            indx = np.argmin(ratio)\n",
    "            if sol[indx] == False:\n",
    "                ratio[indx] = 10000000\n",
    "            else:\n",
    "                sol[indx] = False\n",
    "                break\n",
    "\n",
    "def get_random_solution(w, v, W):\n",
    "    num = w.shape[0]\n",
    "    sol = np.random.randint(0,2, size=num, dtype=np.bool)  # 1 / True oznacza, ze przedmiot jest wybrany\n",
    "    _V = np.sum(v[sol])\n",
    "    _W = np.sum(w[sol])\n",
    "    if _W > W:\n",
    "        correct_solution(w,v,W,sol)\n",
    "        _V = np.sum(v[sol])\n",
    "        _W = np.sum(w[sol])\n",
    "    return sol, _W, _V\n",
    "\n",
    "def get_random_solution_improved(w, v, W):\n",
    "    num = w.shape[0]\n",
    "    sol = np.random.randint(0,2, size=num, dtype=np.bool)  # 1 / True oznacza, ze przedmiot jest wybrany\n",
    "    _V = np.sum(v[sol])\n",
    "    _W = np.sum(w[sol])\n",
    "    if _W > W:\n",
    "        correct_solution2(w,v,W,sol)\n",
    "        _V = np.sum(v[sol])\n",
    "        _W = np.sum(w[sol])\n",
    "    return sol, _W, _V\n",
    "\n",
    "def search_random(w,v,W,iters):\n",
    "    best_sol, best_W, best_V = get_random_solution(w,v,W)\n",
    "    v_all = [best_V]\n",
    "    v_best = [best_V]\n",
    "    for i in range(iters):\n",
    "        sol, _W, _V = get_random_solution(w,v,W)\n",
    "        if best_V < _V:\n",
    "            best_sol, best_W, best_V = sol, _W, _V\n",
    "        v_all.append(_V)\n",
    "        v_best.append(best_V)\n",
    "    # plt.figure()\n",
    "    # plt.plot(v_all)\n",
    "    # plt.plot(v_best)\n",
    "    # plt.show()\n",
    "    return best_sol, best_W, best_V, v_all, v_best\n",
    "\n",
    "def search_random_improved(w,v,W,iters):\n",
    "    best_sol, best_W, best_V = get_random_solution_improved(w,v,W)\n",
    "    v_all = [best_V]\n",
    "    v_best = [best_V]\n",
    "    for i in range(iters):\n",
    "        sol, _W, _V = get_random_solution_improved(w,v,W)\n",
    "        if best_V < _V:\n",
    "            best_sol, best_W, best_V = sol, _W, _V\n",
    "        v_all.append(_V)\n",
    "        v_best.append(best_V)\n",
    "    # plt.figure()\n",
    "    # plt.plot(v_all)\n",
    "    # plt.plot(v_best)\n",
    "    # plt.show()\n",
    "    return best_sol, best_W, best_V, v_all, v_best\n",
    "\n",
    "def search_greedy(w, v, W, iters):\n",
    "    best_sol, best_W, best_V = get_random_solution(w,v,W)\n",
    "    v_all = [best_V]\n",
    "    v_best = [best_V]\n",
    "    num = w.shape[0]\n",
    "    for i in range(iters):\n",
    "        sol = best_sol.copy()\n",
    "        #set random 0 bit to 1\n",
    "        indx = np.random.randint(num)\n",
    "        while sol[indx%num] == True:\n",
    "            indx = indx + 1\n",
    "        sol[indx%num] = True\n",
    "        #correct if needed\n",
    "        if w[sol].sum() > W:\n",
    "            correct_solution(w,v,W,sol)\n",
    "        _V = v[sol].sum()\n",
    "        _W = w[sol].sum()\n",
    "        if best_V < _V:\n",
    "            best_sol, best_W, best_V = sol.copy(), _W, _V\n",
    "        v_all.append(_V)\n",
    "        v_best.append(best_V)\n",
    "    # plt.figure()\n",
    "    # plt.plot(v_all)\n",
    "    # plt.plot(v_best)\n",
    "    # plt.show()\n",
    "    return best_sol, best_W, best_V, v_all, v_best\n",
    "\n",
    "def search_greedy_improved(w, v, W, iters):\n",
    "    best_sol, best_W, best_V = get_random_solution_improved(w,v,W)\n",
    "    v_all = [best_V]\n",
    "    v_best = [best_V]\n",
    "    num = w.shape[0]\n",
    "    for i in range(iters):\n",
    "        sol = best_sol.copy()\n",
    "        #set random 0 bit to 1\n",
    "        indx = np.random.randint(num)\n",
    "        while sol[indx%num] == True:\n",
    "            indx = indx + 1\n",
    "        sol[indx%num] = True\n",
    "        #correct if needed\n",
    "        if w[sol].sum() > W:\n",
    "            correct_solution2(w,v,W,sol)\n",
    "        _V = v[sol].sum()\n",
    "        _W = w[sol].sum()\n",
    "        if best_V < _V:\n",
    "            best_sol, best_W, best_V = sol.copy(), _W, _V\n",
    "        v_all.append(_V)\n",
    "        v_best.append(best_V)\n",
    "    # plt.figure()\n",
    "    # plt.plot(v_all)\n",
    "    # plt.plot(v_best)\n",
    "    # plt.show()\n",
    "    return best_sol, best_W, best_V, v_all, v_best\n",
    "\n",
    "num = 50  # liczba przedmiotów\n",
    "wmin = 1  # minimlana waga\n",
    "wmax = 100  # maksymalna waga\n",
    "vmin = 1  # minimalna wartosc\n",
    "vmax = 100  # maksymalna wartosc\n",
    "knapsack_perc = 0.5  # pojemnosc plecaka jako procent sumy wag wszystkich przedmiotow\n",
    "\n",
    "w, v = generate_problem(wmin, wmax, vmin, vmax, num)  # w - wagi, v - wartosci\n",
    "Wall = w.sum()\n",
    "Vall = v.sum()\n",
    "W = int(knapsack_perc * Wall) # pojemnosc plecaka\n",
    "\n",
    "number_of_tests = 10\n",
    "\n",
    "random_search = np.ndarray(shape=(number_of_tests, 2))\n",
    "random_search_improved = np.ndarray(shape=(number_of_tests, 2))\n",
    "greedy_search = np.ndarray(shape=(number_of_tests, 2))\n",
    "greedy_search_improved = np.ndarray(shape=(number_of_tests, 2))\n",
    "\n",
    "for i in range(number_of_tests):\n",
    "    greedy = search_greedy(w, v, W, 1000)\n",
    "    random = search_random(w, v, W, 1000)\n",
    "    greedy_search[i] = [greedy[1], greedy[2]]\n",
    "    random_search[i] = [random[1], random[2]]\n",
    "\n",
    "    greedy = search_greedy_improved(w, v, W, 1000)\n",
    "    random = search_random_improved(w, v, W, 1000)\n",
    "    greedy_search_improved[i] = [greedy[1], greedy[2]]\n",
    "    random_search_improved[i] = [random[1], random[2]]\n",
    "\n",
    "print(\"Greedy search\")\n",
    "print('\\tSuma wag:', np.average(a=greedy_search, axis=0)[0])\n",
    "print('\\tSuma wartosci:', np.average(a=greedy_search, axis=0)[1])\n",
    "\n",
    "print(\"Greedy search improved\")\n",
    "print('\\tSuma wag:', np.average(a=greedy_search_improved, axis=0)[0])\n",
    "print('\\tSuma wartosci:', np.average(a=greedy_search_improved, axis=0)[1])\n",
    "\n",
    "print(\"Random search\")\n",
    "print('\\tSuma wag:', np.average(a=random_search, axis=0)[0])\n",
    "print('\\tSuma wartosci:', np.average(a=random_search, axis=0)[1])\n",
    "\n",
    "print(\"Random search improved\")\n",
    "print('\\tSuma wag:', np.average(a=random_search_improved, axis=0)[0])\n",
    "print('\\tSuma wartosci:', np.average(a=random_search_improved, axis=0)[1])"
   ]
  },
  {
   "cell_type": "markdown",
   "metadata": {
    "deletable": false,
    "editable": false,
    "nbgrader": {
     "checksum": "9a71a23c92a91acff8cc4b8a9a4cf54b",
     "grade": false,
     "grade_id": "cell-b966a790bb02c5ff",
     "locked": true,
     "schema_version": 1,
     "solution": false
    }
   },
   "source": [
    "Twoje wyniki i wnioski umieść w komórce poniżej."
   ]
  },
  {
   "cell_type": "markdown",
   "metadata": {
    "deletable": false,
    "nbgrader": {
     "checksum": "1b3886349f2227736931eb05c8c9f21c",
     "grade": true,
     "grade_id": "cell-bc34d6cdc8893118",
     "locked": false,
     "points": 2,
     "schema_version": 1,
     "solution": true
    }
   },
   "source": [
    "Greedy search\n",
    "\tSuma wag: 1286.5\n",
    "\tSuma wartosci: 2119.3\n",
    "Greedy search improved\n",
    "\tSuma wag: 1283.8\n",
    "\tSuma wartosci: 2146.5\n",
    "Random search\n",
    "\tSuma wag: 1263.1\n",
    "\tSuma wartosci: 1681.3\n",
    "Random search improved\n",
    "\tSuma wag: 1272.2\n",
    "\tSuma wartosci: 1898.0\n",
    "    \n",
    "Wnioski:\n",
    "    Zdecydowaną poprawę widać w przypadku metody random search, dla greedy search różnica pomiędzy użyciem dwóch różnych funkcji naprawiających jest bardzo niewielka. Wynika to ze sposobu w jaki obydwie metody działają - random search nie wykorzystuje wiedzy o najlepszych do tej pory rozwiązaniach, dlatego napisana w taki sposób funkcja naprawiająca tak bardzo porpawia wyniki."
   ]
  },
  {
   "cell_type": "code",
   "execution_count": null,
   "metadata": {
    "deletable": false,
    "editable": false,
    "nbgrader": {
     "checksum": "4f591132a1e22de2080867289b5c578c",
     "grade": true,
     "grade_id": "cell-6942f41af0594e26",
     "locked": true,
     "points": 1,
     "schema_version": 1,
     "solution": false
    }
   },
   "outputs": [],
   "source": [
    "#Komórka z autotestem"
   ]
  },
  {
   "cell_type": "markdown",
   "metadata": {
    "deletable": false,
    "editable": false,
    "nbgrader": {
     "checksum": "662a677a99d45fab34a3ee097ff80f97",
     "grade": false,
     "grade_id": "cell-09617854aa85463c",
     "locked": true,
     "schema_version": 1,
     "solution": false
    }
   },
   "source": [
    "## Zadanie 3 (6 pkt.)\n",
    "\n",
    "Dostosuj swoją implementację algorytmu genetycznego do problemu plecakowego. \n",
    "\n",
    "- Jakie wyniki można uzyskać z jego pomocą? Czy działa on zawsze lepiej niż inne heurystyki?\n",
    "\n",
    "- Która procedura naprawcza działa lepiej w algorytmie genetycznym?\n",
    "\n",
    "- Przedstaw wnioski na podstawie uśrednionych wyników dla problemów plecakowych o rozmiarze 50, 100, 300.\n",
    "\n",
    "- Problemy plecakowe i najlepsze znalezione rozwiązania zapisz do plików.\n",
    "\n",
    "UWAGA! Po wygenerowaniu problemu plecakowego, przed uruchomieniem algorytmu genetycznego (lub innego) wywołaj:\n",
    "\n",
    "`np.random.seed(int(time.time()))`\n",
    "\n",
    "tak by problem plecakowy generował się ten sam, ale algorytmy miały szansę na nowy przebieg."
   ]
  },
  {
   "cell_type": "code",
   "execution_count": null,
   "metadata": {
    "deletable": false,
    "nbgrader": {
     "checksum": "8950eb042791815aea41950e36146531",
     "grade": false,
     "grade_id": "cell-7c876ab6cbd0e807",
     "locked": false,
     "schema_version": 1,
     "solution": true
    }
   },
   "outputs": [],
   "source": [
    "def gen_pop(w, v, W, pop_size):\n",
    "    # YOUR CODE HERE\n",
    "    raise NotImplementedError()\n",
    "    return pop\n",
    "\n",
    "def evaluate(pop, v):\n",
    "    # YOUR CODE HERE\n",
    "    raise NotImplementedError()\n",
    "    return evaluated_pop\n",
    "\n",
    "def select(pop, evals):\n",
    "    # YOUR CODE HERE\n",
    "    raise NotImplementedError()\n",
    "    return new_pop\n",
    "\n",
    "def xover(pop, p, w,v,W):  # p - prawdopodobienstwo krzyzowania\n",
    "    # YOUR CODE HERE\n",
    "    raise NotImplementedError()\n",
    "    return new_pop\n",
    "\n",
    "def mutate(pop, p, w,v,W):  # p - prawdopodobienstwo mutacji\n",
    "    # YOUR CODE HERE\n",
    "    raise NotImplementedError()\n",
    "    return pop\n",
    "\n",
    "def evolve_knapsack(w, v, W, pop_size, pxover, pmutate, generations):\n",
    "    pop = gen_pop(w,v,W, pop_size)\n",
    "    evals = evaluate(pop, v)\n",
    "    i = np.argmax(evals)\n",
    "    best = pop[i].copy()\n",
    "    best_V = evals[i]\n",
    "    best_iter = 0\n",
    "    v_all = [best_V]\n",
    "    v_best = [best_V]\n",
    "    v_mean = [np.mean(evals)]\n",
    "    \n",
    "    print('initial best', best_V)\n",
    "    \n",
    "    for i in range(generations):\n",
    "        pop = select(pop, evals)\n",
    "        pop = xover(pop, pxover, w,v,W)\n",
    "        pop = mutate(pop, pmutate, w,v,W)\n",
    "        evals = evaluate(pop, v)\n",
    "        ii = np.argmax(evals)\n",
    "        temp_best_v = evals[ii]\n",
    "        if temp_best_v > best_V:\n",
    "            best_V = temp_best_v\n",
    "            best_iter = i+1\n",
    "            best = pop[ii].copy()\n",
    "            print('better solution of ', best_V, 'in', best_iter)\n",
    "        v_all.append(temp_best_v)\n",
    "        v_best.append(best_V)\n",
    "        v_mean.append(np.mean(evals))\n",
    "    \n",
    "    plt.plot(v_best, 'r')\n",
    "    plt.plot(v_all, 'g')\n",
    "    plt.plot(v_mean, 'b')\n",
    "    plt.show()\n",
    "    return best, w[best].sum(), best_V"
   ]
  },
  {
   "cell_type": "markdown",
   "metadata": {
    "deletable": false,
    "editable": false,
    "nbgrader": {
     "checksum": "c340f36b966cd88940cb5354eebf92cc",
     "grade": false,
     "grade_id": "cell-605dc77605840e07",
     "locked": true,
     "schema_version": 1,
     "solution": false
    }
   },
   "source": [
    "Twoje wyniki i wnioski umieść w komórce poniżej."
   ]
  },
  {
   "cell_type": "markdown",
   "metadata": {
    "deletable": false,
    "nbgrader": {
     "checksum": "c11f4cf2abed46c4cebc036e6a0600b6",
     "grade": true,
     "grade_id": "cell-c47453adeedaa14d",
     "locked": false,
     "points": 6,
     "schema_version": 1,
     "solution": true
    }
   },
   "source": [
    "YOUR ANSWER HERE"
   ]
  },
  {
   "cell_type": "markdown",
   "metadata": {
    "deletable": false,
    "editable": false,
    "nbgrader": {
     "checksum": "22a892ad8206e6bb4fc40a8269fd2edc",
     "grade": false,
     "grade_id": "cell-299e037cb4bc73bb",
     "locked": true,
     "schema_version": 1,
     "solution": false
    }
   },
   "source": [
    "<div style=\"text-align: right\">&copy; Zakład Inteligencji Obliczeniowej, Instytut Informatyki, Politechnika Krakowska </div>"
   ]
  }
 ],
 "metadata": {
  "kernelspec": {
   "display_name": "Python 3",
   "language": "python",
   "name": "python3"
  },
  "language_info": {
   "codemirror_mode": {
    "name": "ipython",
    "version": 3
   },
   "file_extension": ".py",
   "mimetype": "text/x-python",
   "name": "python",
   "nbconvert_exporter": "python",
   "pygments_lexer": "ipython3",
   "version": "3.6.8"
  }
 },
 "nbformat": 4,
 "nbformat_minor": 2
}
