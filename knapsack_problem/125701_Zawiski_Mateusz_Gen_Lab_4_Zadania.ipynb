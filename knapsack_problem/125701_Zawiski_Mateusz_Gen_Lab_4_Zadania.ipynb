{
 "cells": [
  {
   "cell_type": "markdown",
   "metadata": {
    "deletable": false,
    "editable": false,
    "nbgrader": {
     "checksum": "2878447ed9128508318a9c8416f4e7a3",
     "grade": false,
     "grade_id": "cell-982e98d0ad3ab544",
     "locked": true,
     "schema_version": 1,
     "solution": false
    }
   },
   "source": [
    "# Wstęp do Sztucznej Inteligencji - rok akademicki 2018/2019\n",
    "\n",
    "Przed rozpoczęciem pracy z notatnikiem zmień jego nazwę zgodnie z wzorem: `{NrAlbumu}_{Nazwisko}_{Imie}_{PoprzedniaNazwa}`.\n",
    "\n",
    "Przed wysłaniem notatnika upewnij się, że rozwiązałeś wszystkie zadania/ćwiczenia, w szczególności, że uzupełniłeś wszystkie pola `YOUR CODE HERE` oraz `YOUR ANSWER HERE`."
   ]
  },
  {
   "cell_type": "markdown",
   "metadata": {
    "deletable": false,
    "editable": false,
    "nbgrader": {
     "checksum": "9a437ebd76a9d17daac589c3467b81ee",
     "grade": false,
     "grade_id": "cell-0b2104075deb75b5",
     "locked": true,
     "schema_version": 1,
     "solution": false
    }
   },
   "source": [
    "## Temat: Algorytmy genetyczne - Lab 4 - Problem plecakowy - Zadania (obowiązkowe)\n",
    "Zapoznaj się z treścią niniejszego notatnika czytając i wykonując go komórka po komórce. Wykonaj napotkane zadania/ćwiczenia.\n",
    "\n",
    "### Problem plecakowy\n",
    "Problem plecakowy to problem optymalizacji dyskretnej. W swojej najprostszej wersji może być sformułowany następująco.\n",
    "\n",
    "Spośród `N` dostępnych przedmiotów możmy zabrać taką ich liczbę by suma ich wag nie przekraczała pewnej dopuszczalnej wartości (maksymalne obciążenie plecaka). Każdy przedmiot, oprócz wagi, ma przypisaną swoją wartość. \n",
    "\n",
    "Które przedmioty zbrać, aby ich sumaryczna wartość była jak największa, ale ich sumaryczna waga nie przekraczała dopuszczalnej maksymalnej wagi plecaka?\n",
    "\n",
    "Mamy zatem do czynienia z problemem optymalizacji z ograniczeniami.\n",
    "\n",
    "Przeczytaj więcej o problemie plecakowym:\n",
    "\n",
    "https://pl.wikipedia.org/wiki/Problem_plecakowy"
   ]
  },
  {
   "cell_type": "markdown",
   "metadata": {
    "deletable": false,
    "editable": false,
    "nbgrader": {
     "checksum": "7543172dd3b6affe21fe007190939d15",
     "grade": false,
     "grade_id": "cell-21d5156db0595f01",
     "locked": true,
     "schema_version": 1,
     "solution": false
    }
   },
   "source": [
    "### Prosty generator problemu plecakowego (0-1 knapsack problem)\n",
    "\n",
    "Generujemy listę przedmiotów, z losowymi wagami oraz wartościami z podanych przedziałów."
   ]
  },
  {
   "cell_type": "code",
   "execution_count": 1,
   "metadata": {},
   "outputs": [],
   "source": [
    "import numpy as np\n",
    "import matplotlib.pyplot as plt\n",
    "import time\n",
    "#%matplotlib notebook\n",
    "\n",
    "#wmin - minimalna waga przedmiotu\n",
    "#wmax - maksymalna waga przedmiotu\n",
    "#vmin - minimalna wartość przedmiotu\n",
    "#vmax - maksymalna wartość przedmiotu\n",
    "#items_num - liczba dostępnych przedmiotów\n",
    "def generate_problem(wmin, wmax, vmin, vmax, items_num):\n",
    "    w = np.random.randint(wmin, wmax, size=items_num)  #weight\n",
    "    v = np.random.randint(vmin, vmax, size=items_num)  #values\n",
    "    return w, v"
   ]
  },
  {
   "cell_type": "markdown",
   "metadata": {
    "deletable": false,
    "editable": false,
    "nbgrader": {
     "checksum": "603a0b6d4e48f6e5f7bf10fc7d5a62ca",
     "grade": false,
     "grade_id": "cell-47e3f3ccdd80ba27",
     "locked": true,
     "schema_version": 1,
     "solution": false
    }
   },
   "source": [
    "Przykładowy problem plecakowy (zwróć uwagę, że możemy zagwarantować generowanie za każdym razem tego samego problemu poprzez ustawienie ziarna generatora liczb losowych)."
   ]
  },
  {
   "cell_type": "code",
   "execution_count": 2,
   "metadata": {},
   "outputs": [
    {
     "name": "stdout",
     "output_type": "stream",
     "text": [
      "Problem plecakowy:\n",
      "pojemnosc plecaka: 1243\n",
      "wagi: [35  6 64 18 35 62 47 82 38 27 89 51 94  8 29 14 29 51 77 82 46 36 35  5\n",
      " 63 35 95 86 38 12  2 54 95 81 93 11 24 56 24 71 68 36 90 50 69 84  3 17\n",
      " 93 76] suma: 2486\n",
      "wartosci: [18 83  6  5 38 42 34 93 82 46 74  9 84 80 29 91 37 24 37 79 67 81 78 57\n",
      " 59 54 99 13 34 90 47 82 65 82 95 25 24 31 45 78 51  4 46 98 41 30 49 77\n",
      "  8 56] suma: 2657\n"
     ]
    }
   ],
   "source": [
    "num = 50  # liczba przedmiotów\n",
    "wmin = 1  # minimlana waga\n",
    "wmax = 100  # maksymalna waga\n",
    "vmin = 1  # minimalna wartosc\n",
    "vmax = 100  # maksymalna wartosc\n",
    "knapsack_perc = 0.5  # pojemnosc plecaka jako procent sumy wag wszystkich przedmiotow\n",
    "\n",
    "# ustawienie ziarna\n",
    "np.random.seed(125701)\n",
    "\n",
    "w, v = generate_problem(wmin, wmax, vmin, vmax, num)  # w - wagi, v - wartosci\n",
    "Wall = w.sum()\n",
    "Vall = v.sum()\n",
    "W = int(knapsack_perc * Wall) # pojemnosc plecaka\n",
    "\n",
    "print('Problem plecakowy:')\n",
    "print('pojemnosc plecaka:', W)\n",
    "print('wagi:',w, 'suma:', Wall)\n",
    "print('wartosci:',v, 'suma:', Vall)"
   ]
  },
  {
   "cell_type": "markdown",
   "metadata": {
    "deletable": false,
    "editable": false,
    "nbgrader": {
     "checksum": "46380949e84e9b5797a634f6a61c209e",
     "grade": false,
     "grade_id": "cell-c3836a0959319baf",
     "locked": true,
     "schema_version": 1,
     "solution": false
    }
   },
   "source": [
    "## Zadanie 1 (1pkt.) - rozwiązanie metodą brute force\n",
    "\n",
    "Mamy problem plecakowy ze 100 przedmiotami. Chcemy sprawdzić każde możliwe rozwiązanie. Jeśli w ciągu sekundy moglibysmy sprawdzić miliard rozwiązań, to ile lat by to trwało? Przyjmij, że rok ma 365 dni.\n",
    "\n",
    "Otrzymaną liczbę lat przypisz do zmiennej o nazwie `liczba_lat`. Wynik zaokrąglij do pełnych lat w dół."
   ]
  },
  {
   "cell_type": "code",
   "execution_count": 24,
   "metadata": {
    "deletable": false,
    "nbgrader": {
     "checksum": "079e4cbd82aa4631d819cea64e12870f",
     "grade": false,
     "grade_id": "cell-f8835c508eb05263",
     "locked": false,
     "schema_version": 1,
     "solution": true
    }
   },
   "outputs": [
    {
     "name": "stdout",
     "output_type": "stream",
     "text": [
      "Zajmie to: 40196936841331 lat\n"
     ]
    }
   ],
   "source": [
    "# YOUR CODE HERE\n",
    "n = 100\n",
    "iteracje = 2**n\n",
    "liczba_lat = iteracje / 365 / 10**9 / 24 / 60 / 60\n",
    "print('Zajmie to: {} lat'.format(int(liczba_lat)))"
   ]
  },
  {
   "cell_type": "code",
   "execution_count": 4,
   "metadata": {
    "deletable": false,
    "editable": false,
    "nbgrader": {
     "checksum": "c4d783fe52753deec12ae41f294b2f9a",
     "grade": true,
     "grade_id": "cell-b1b62c493fa608f8",
     "locked": true,
     "points": 1,
     "schema_version": 1,
     "solution": false
    }
   },
   "outputs": [],
   "source": [
    "#Komórka z autotestem"
   ]
  },
  {
   "cell_type": "markdown",
   "metadata": {
    "deletable": false,
    "editable": false,
    "nbgrader": {
     "checksum": "cbd3bb35b34e2627cea1ae83814504d1",
     "grade": false,
     "grade_id": "cell-2969ad4b5b26e07e",
     "locked": true,
     "schema_version": 1,
     "solution": false
    }
   },
   "source": [
    "## Kodowanie rozwiązania\n",
    "\n",
    "Potencjalne rozwiązanie problemu plecakowego można zakodować jako wektor `0`/`1`, gdzie `1` oznacza wybranie przedmiotu do plecaka.\n",
    "\n",
    "Warto skorzystać z kodowania `True`/`False` i tablic `numpy`, gdyż ułatwi to obliczenia (macierze True/False mogą służyć do indeksowania innych macierzy).\n",
    "\n",
    "Przykładowo:"
   ]
  },
  {
   "cell_type": "code",
   "execution_count": 5,
   "metadata": {},
   "outputs": [
    {
     "name": "stdout",
     "output_type": "stream",
     "text": [
      "Rozwiązanie: [ True False  True False False False  True  True False  True False  True\n",
      " False False False False False  True False  True False  True  True False\n",
      "  True  True  True False  True  True  True False False False  True  True\n",
      "  True  True  True  True False False False False  True  True  True  True\n",
      " False  True]\n",
      "Lista wybranych przedmiotow: [ 0  2  6  7  9 11 17 19 21 22 24 25 26 28 29 30 34 35 36 37 38 39 44 45\n",
      " 46 47 49]\n",
      "Suma wag: 1283\n",
      "Suma wartosci: 1402\n"
     ]
    }
   ],
   "source": [
    "num = w.shape[0]\n",
    "sol = np.random.randint(0, 2, size=num, dtype=np.bool)  # True oznacza, ze przedmiot jest wybrany\n",
    "\n",
    "print('Rozwiązanie:', sol)\n",
    "print('Lista wybranych przedmiotow:', np.arange(num)[sol])\n",
    "print('Suma wag:', w[sol].sum())\n",
    "print('Suma wartosci:', v[sol].sum())"
   ]
  },
  {
   "cell_type": "markdown",
   "metadata": {
    "deletable": false,
    "editable": false,
    "nbgrader": {
     "checksum": "239d5ba270a3b52a57e076dc74284fde",
     "grade": false,
     "grade_id": "cell-30d37eeb3565a164",
     "locked": true,
     "schema_version": 1,
     "solution": false
    }
   },
   "source": [
    "## Rozwiązania dopuszczalne i niedopuszczalne - procedura naprawcza\n",
    "\n",
    "Jeśli suma wag przekracza pojemność plecaka, to rozwiązanie jest rozwiązaniem niedopuszczalnym i jest całkowicie nieprzydatne.\n",
    "\n",
    "Rozwiązanie niedopuszczalne można poddać procedurze naprawczej. Przykładowo, poniższa funkcja usuwa przedmioty z plecaka, dopóki nie powstanie rozwiązanie dopuszczalne."
   ]
  },
  {
   "cell_type": "code",
   "execution_count": 6,
   "metadata": {},
   "outputs": [],
   "source": [
    "# Usuwa losowe przedmioty, aż rozwiązanie stanie się dopuszczalne\n",
    "# Jesli rowziazanie jest dopuszczlane, nie zostanie zmienione\n",
    "def correct_solution(w, v, W, sol):\n",
    "    num = w.shape[0]\n",
    "    while w[sol].sum() > W:\n",
    "        indx = np.random.randint(num)\n",
    "        while sol[indx%num] == False:\n",
    "            indx = indx + 1\n",
    "        sol[indx%num] = False"
   ]
  },
  {
   "cell_type": "markdown",
   "metadata": {
    "deletable": false,
    "editable": false,
    "nbgrader": {
     "checksum": "69800200760e5b8bbbeab9ee90d00c16",
     "grade": false,
     "grade_id": "cell-ee858832ed06e85f",
     "locked": true,
     "schema_version": 1,
     "solution": false
    }
   },
   "source": [
    "#### Przykładowa naprawa:"
   ]
  },
  {
   "cell_type": "code",
   "execution_count": 7,
   "metadata": {},
   "outputs": [
    {
     "name": "stdout",
     "output_type": "stream",
     "text": [
      "Rozwiązanie: [ True False  True False False False  True  True False  True False  True\n",
      " False False False False False  True False  True False  True  True False\n",
      "  True  True  True False  True  True  True False False False  True  True\n",
      "  True  True  True False False False False False  True  True  True  True\n",
      " False  True]\n",
      "Lista wybranych przedmiotow: [ 0  2  6  7  9 11 17 19 21 22 24 25 26 28 29 30 34 35 36 37 38 44 45 46\n",
      " 47 49]\n",
      "Suma wag: 1212\n",
      "Suma wartosci: 1324\n"
     ]
    }
   ],
   "source": [
    "correct_solution(w, v, W, sol)\n",
    "\n",
    "print('Rozwiązanie:', sol)\n",
    "print('Lista wybranych przedmiotow:', np.arange(num)[sol])\n",
    "print('Suma wag:', w[sol].sum())\n",
    "print('Suma wartosci:', v[sol].sum())"
   ]
  },
  {
   "cell_type": "markdown",
   "metadata": {
    "deletable": false,
    "editable": false,
    "nbgrader": {
     "checksum": "4b178f81b62cb81617dc682abfcc258d",
     "grade": false,
     "grade_id": "cell-d9642f9f953d6f52",
     "locked": true,
     "schema_version": 1,
     "solution": false
    }
   },
   "source": [
    "## Losowe, dopuszczalne rozwiązania\n",
    "\n",
    "Bazując na powyższej procedurze, można zdefiniować funkcję generującą losowe, ale zawsze dopuszczalne rozwiązania."
   ]
  },
  {
   "cell_type": "code",
   "execution_count": 8,
   "metadata": {},
   "outputs": [],
   "source": [
    "def get_random_solution(w, v, W):\n",
    "    num = w.shape[0]\n",
    "    sol = np.random.randint(0,2, size=num, dtype=np.bool)  # 1 / True oznacza, ze przedmiot jest wybrany\n",
    "    _V = np.sum(v[sol])\n",
    "    _W = np.sum(w[sol])\n",
    "    if _W > W:\n",
    "        correct_solution(w,v,W,sol)\n",
    "        _V = np.sum(v[sol])\n",
    "        _W = np.sum(w[sol])\n",
    "    return sol, _W, _V"
   ]
  },
  {
   "cell_type": "markdown",
   "metadata": {
    "deletable": false,
    "editable": false,
    "nbgrader": {
     "checksum": "febb26060f8e0d9513831e394d599dbc",
     "grade": false,
     "grade_id": "cell-1109ca21b43ceb7e",
     "locked": true,
     "schema_version": 1,
     "solution": false
    }
   },
   "source": [
    "#### Przykład użycia:"
   ]
  },
  {
   "cell_type": "code",
   "execution_count": 9,
   "metadata": {},
   "outputs": [
    {
     "name": "stdout",
     "output_type": "stream",
     "text": [
      "Rozwiązanie: [ True  True False  True  True False False False False False  True  True\n",
      "  True  True False False  True False  True False  True  True  True False\n",
      " False  True  True False False  True False False False False False  True\n",
      " False False False False False  True False False False False False False\n",
      " False False]\n",
      "Lista wybranych przedmiotow: [ 0  1  3  4 10 11 12 13 16 18 20 21 22 25 26 29 35 41]\n",
      "Suma wag: 748\n",
      "Suma wartosci: 963\n"
     ]
    }
   ],
   "source": [
    "sol = get_random_solution(w,v,W)\n",
    "\n",
    "print('Rozwiązanie:', sol[0])\n",
    "print('Lista wybranych przedmiotow:', np.arange(num)[sol[0]])\n",
    "print('Suma wag:', sol[1])\n",
    "print('Suma wartosci:', sol[2])"
   ]
  },
  {
   "cell_type": "markdown",
   "metadata": {
    "deletable": false,
    "editable": false,
    "nbgrader": {
     "checksum": "fe6278173f58e5b79801719e32166509",
     "grade": false,
     "grade_id": "cell-c58855739e72bfed",
     "locked": true,
     "schema_version": 1,
     "solution": false
    }
   },
   "source": [
    "## Random search\n",
    "\n",
    "Powyższe funkcje można przełożyć na prostą heurystykę przeszukiwania losowego. Generujemy losowe (ale dopuszczalne) rozwiązania przez zadaną liczbę iteracji i zapamiętujemy najlepsze. Dodatkowo, zapisujemy oceny rozwiązań (wartość wszystkich przedmiotów w plecaku) by przedstawić je na wykresie."
   ]
  },
  {
   "cell_type": "code",
   "execution_count": 10,
   "metadata": {},
   "outputs": [],
   "source": [
    "def search_random(w,v,W,iters):\n",
    "    best_sol, best_W, best_V = get_random_solution(w,v,W)\n",
    "    v_all = [best_V]\n",
    "    v_best = [best_V]\n",
    "    for i in range(iters):\n",
    "        sol, _W, _V = get_random_solution(w,v,W)\n",
    "        if best_V < _V:\n",
    "            best_sol, best_W, best_V = sol, _W, _V\n",
    "        v_all.append(_V)\n",
    "        v_best.append(best_V)\n",
    "    #plt.figure()\n",
    "    #plt.plot(v_all)\n",
    "    #plt.plot(v_best)\n",
    "    #plt.show()\n",
    "    return best_sol, best_W, best_V, v_all, v_best"
   ]
  },
  {
   "cell_type": "markdown",
   "metadata": {
    "deletable": false,
    "editable": false,
    "nbgrader": {
     "checksum": "1834a6fba514c5f6b94c3ff0ee778f82",
     "grade": false,
     "grade_id": "cell-abaadd5a2c76f259",
     "locked": true,
     "schema_version": 1,
     "solution": false
    }
   },
   "source": [
    "#### Przykładowe uruchomienie:"
   ]
  },
  {
   "cell_type": "code",
   "execution_count": 11,
   "metadata": {},
   "outputs": [
    {
     "name": "stdout",
     "output_type": "stream",
     "text": [
      "Najlepsze rozwiązanie: [ True  True False False  True False False  True False False  True  True\n",
      "  True  True False  True False False False  True  True  True  True  True\n",
      " False False False False False  True False  True  True  True  True  True\n",
      "  True  True  True False False False False  True False False False  True\n",
      " False  True]\n",
      "Przedmioty: [ 0  1  4  7 10 11 12 13 15 19 20 21 22 23 29 31 32 33 34 35 36 37 38 43\n",
      " 47 49]\n",
      "Suma wag: 1211\n",
      "Suma wartosci: 1702\n"
     ]
    }
   ],
   "source": [
    "sol_random_search = search_random(w, v, W, 1000)\n",
    "\n",
    "print('Najlepsze rozwiązanie:',sol_random_search[0])\n",
    "print('Przedmioty:',np.arange(num)[sol_random_search[0]])\n",
    "print('Suma wag:', sol_random_search[1])\n",
    "print('Suma wartosci:', sol_random_search[2])"
   ]
  },
  {
   "cell_type": "markdown",
   "metadata": {
    "deletable": false,
    "editable": false,
    "nbgrader": {
     "checksum": "dce9e43f0916d277de56b8885481493a",
     "grade": false,
     "grade_id": "cell-2ad349a0ea9983a5",
     "locked": true,
     "schema_version": 1,
     "solution": false
    }
   },
   "source": [
    "## Greedy search - procedura optymalizacji zachłannej\n",
    "\n",
    "Problemem w powyższym podejściu jest fakt, że kolejne rozwiązania nie korzystają z uzyskanej już wiedzy o najlepszych do tej pory rozwiązaniach. Zatem inna prosta heurytyka polega na wystartowaniu z losowego rozwiązania, a następnie modyfikowaniu go poprzez losowe dodawanie przedmiotu do plecaka. Jeśli zmiana (po ewentualnej naprawie) wprowadza poprawę, pozostajemy przy takim rozwiązaniu, jeśli następuje pogorszenie, odrzucamy takie rozwiązanie i ponawiamy próbę.\n",
    "\n",
    "Taka procedura jest przykładem optymalizacji zachłannej."
   ]
  },
  {
   "cell_type": "code",
   "execution_count": 12,
   "metadata": {},
   "outputs": [],
   "source": [
    "def search_greedy_improvement(w, v, W, iters):\n",
    "    best_sol, best_W, best_V = get_random_solution(w,v,W)\n",
    "    v_all = [best_V]\n",
    "    v_best = [best_V]\n",
    "    num = w.shape[0]\n",
    "    for i in range(iters):\n",
    "        sol = best_sol.copy()\n",
    "        #set random 0 bit to 1\n",
    "        indx = np.random.randint(num)\n",
    "        while sol[indx%num] == True:\n",
    "            indx = indx + 1\n",
    "        sol[indx%num] = True\n",
    "        #correct if needed\n",
    "        if w[sol].sum() > W:\n",
    "            correct_solution(w,v,W,sol)\n",
    "        _V = v[sol].sum()\n",
    "        _W = w[sol].sum()\n",
    "        if best_V < _V:\n",
    "            best_sol, best_W, best_V = sol.copy(), _W, _V\n",
    "        v_all.append(_V)\n",
    "        v_best.append(best_V)\n",
    "    #plt.figure()\n",
    "    #plt.plot(v_all)\n",
    "    #plt.plot(v_best)\n",
    "    #plt.show()\n",
    "    return best_sol, best_W, best_V, v_all, v_best "
   ]
  },
  {
   "cell_type": "markdown",
   "metadata": {
    "deletable": false,
    "editable": false,
    "nbgrader": {
     "checksum": "615139580bd465ffd20f6a7b7d9c53d2",
     "grade": false,
     "grade_id": "cell-f2676d9ac396c08b",
     "locked": true,
     "schema_version": 1,
     "solution": false
    }
   },
   "source": [
    "#### Przykładowe uruchomienie:"
   ]
  },
  {
   "cell_type": "code",
   "execution_count": 13,
   "metadata": {},
   "outputs": [
    {
     "name": "stdout",
     "output_type": "stream",
     "text": [
      "Najlepsze rozwiązanie: [False  True False False False  True False  True  True  True False False\n",
      "  True  True  True  True  True False False  True  True  True  True  True\n",
      "  True  True  True False False  True  True  True False  True  True  True\n",
      "  True False  True  True False False False  True False False  True  True\n",
      " False False]\n",
      "Przedmioty: [ 1  5  7  8  9 12 13 14 15 16 19 20 21 22 23 24 25 26 29 30 31 33 34 35\n",
      " 36 38 39 43 46 47]\n",
      "Suma wag: 1228\n",
      "Suma wartosci: 2033\n"
     ]
    }
   ],
   "source": [
    "sol_greedy = search_greedy_improvement(w,v,W,1000)\n",
    "\n",
    "print('Najlepsze rozwiązanie:',sol_greedy[0])\n",
    "print('Przedmioty:',np.arange(num)[sol_greedy[0]])\n",
    "print('Suma wag:', sol_greedy[1])\n",
    "print('Suma wartosci:', sol_greedy[2])"
   ]
  },
  {
   "cell_type": "markdown",
   "metadata": {
    "deletable": false,
    "editable": false,
    "nbgrader": {
     "checksum": "7c6435f77dff4c56ac270746dfa44727",
     "grade": false,
     "grade_id": "cell-6e4e4383c146adcc",
     "locked": true,
     "schema_version": 1,
     "solution": false
    }
   },
   "source": [
    "## Dwie inne proste heurystyki\n",
    "\n",
    "### Najpierw najbardziej wartościowe\n",
    "\n",
    "Jak dobre rozwiązanie dostaniemy, jeśli do plecaka pakować będziemy najpierw najbardziej wartościowe przedmioty (o ile się zmieszczą)? Pomysł ten jest zaimplementowany w poniższej funkcji.\n"
   ]
  },
  {
   "cell_type": "code",
   "execution_count": 14,
   "metadata": {},
   "outputs": [],
   "source": [
    "#Pakuje najpierw najbardziej wartościowe przedmioty\n",
    "def get_value_first(w, v, W):\n",
    "    ii = np.argsort(-v)\n",
    "    num = w.shape[0]\n",
    "    sol = np.repeat(False, num)\n",
    "    _W = 0\n",
    "    for i in range(num):\n",
    "        if _W + w[ii[i]] <= W:\n",
    "            sol[ii[i]] = True\n",
    "            _W = _W + w[ii[i]]\n",
    "    _V = v[sol].sum()\n",
    "    return sol, _W, _V"
   ]
  },
  {
   "cell_type": "markdown",
   "metadata": {
    "deletable": false,
    "editable": false,
    "nbgrader": {
     "checksum": "e61c96872ccc909c82032772d0ee884d",
     "grade": false,
     "grade_id": "cell-a5b5f7c7b27bcdaa",
     "locked": true,
     "schema_version": 1,
     "solution": false
    }
   },
   "source": [
    "#### Przykładowe uruchomienie:"
   ]
  },
  {
   "cell_type": "code",
   "execution_count": 15,
   "metadata": {},
   "outputs": [
    {
     "name": "stdout",
     "output_type": "stream",
     "text": [
      "Najlepsze rozwiązanie: [False  True False False False False False  True  True False  True False\n",
      "  True  True False  True False False False  True  True  True  True  True\n",
      "  True False  True False False  True False  True  True  True  True False\n",
      " False False False  True False False False  True False False False  True\n",
      " False  True]\n",
      "Przedmioty: [ 1  7  8 10 12 13 15 19 20 21 22 23 24 26 29 31 32 33 34 39 43 47 49]\n",
      "Suma wag: 1242\n",
      "Suma wartosci: 1830\n"
     ]
    }
   ],
   "source": [
    "sol_value_first = get_value_first(w, v, W)\n",
    "\n",
    "print('Najlepsze rozwiązanie:',sol_value_first[0])\n",
    "print('Przedmioty:',np.arange(num)[sol_value_first[0]])\n",
    "print('Suma wag:', sol_value_first[1])\n",
    "print('Suma wartosci:', sol_value_first[2])"
   ]
  },
  {
   "cell_type": "markdown",
   "metadata": {
    "deletable": false,
    "editable": false,
    "nbgrader": {
     "checksum": "5f5c20e17e74957c93c38201dbb2a3f1",
     "grade": false,
     "grade_id": "cell-e886da0864afaff7",
     "locked": true,
     "schema_version": 1,
     "solution": false
    }
   },
   "source": [
    "### Najpierw te o najlepszym stosunku wartości do wagi\n",
    "\n",
    "Inny pomysł to pakowanie najpierw przedmiotów o najlepszym stosunku wartości do wagi.\n"
   ]
  },
  {
   "cell_type": "code",
   "execution_count": 16,
   "metadata": {},
   "outputs": [],
   "source": [
    "def get_ratio_first(w, v, W):\n",
    "    ii = np.argsort(-v/w) #stosunek wartosci do wagi\n",
    "    num = w.shape[0]\n",
    "    sol = np.repeat(False, num)\n",
    "    _W = 0\n",
    "    for i in range(num):\n",
    "        if _W + w[ii[i]] <= W:\n",
    "            sol[ii[i]] = True\n",
    "            _W = _W + w[ii[i]]\n",
    "    _V = v[sol].sum()\n",
    "    return sol, _W, _V"
   ]
  },
  {
   "cell_type": "markdown",
   "metadata": {
    "deletable": false,
    "editable": false,
    "nbgrader": {
     "checksum": "3c9a5bdc458f9877312203b26adc40fa",
     "grade": false,
     "grade_id": "cell-a712a02c4da5eec5",
     "locked": true,
     "schema_version": 1,
     "solution": false
    }
   },
   "source": [
    "#### Przykładowe uruchomienie:"
   ]
  },
  {
   "cell_type": "code",
   "execution_count": 17,
   "metadata": {},
   "outputs": [
    {
     "name": "stdout",
     "output_type": "stream",
     "text": [
      "Najlepsze rozwiązanie: [False  True False False  True False False  True  True  True False False\n",
      "  True  True  True  True  True False False  True  True  True  True  True\n",
      "  True  True  True False  True  True  True  True False  True  True  True\n",
      "  True False  True  True False False False  True False False  True  True\n",
      " False False]\n",
      "Przedmioty: [ 1  4  7  8  9 12 13 14 15 16 19 20 21 22 23 24 25 26 28 29 30 31 33 34\n",
      " 35 36 38 39 43 46 47]\n",
      "Suma wag: 1239\n",
      "Suma wartosci: 2063\n"
     ]
    }
   ],
   "source": [
    "sol_ratio_first = get_ratio_first(w, v, W)\n",
    "\n",
    "print('Najlepsze rozwiązanie:',sol_ratio_first[0])\n",
    "print('Przedmioty:',np.arange(num)[sol_ratio_first[0]])\n",
    "print('Suma wag:', sol_ratio_first[1])\n",
    "print('Suma wartosci:', sol_ratio_first[2])"
   ]
  },
  {
   "cell_type": "markdown",
   "metadata": {
    "deletable": false,
    "editable": false,
    "nbgrader": {
     "checksum": "8078b10c0c802bb82319da328e61dca5",
     "grade": false,
     "grade_id": "cell-13b54c7aa7c266b5",
     "locked": true,
     "schema_version": 1,
     "solution": false
    }
   },
   "source": [
    "## Zadanie 2 (3 pkt.)\n",
    "\n",
    "Opracowane być mogą inne procedury naprawcze. Przykładowo, dla rozwiązania niedopuszczalengo, zamiast zmieniać losowe bity True na False, jak w funkcji `correct_solution`, można usuwać najpierw te przedmioty, które mają najgorszy stosunek wartości do wagi. Zaimplementuj taką procedurę. \n",
    "\n",
    "Porównaj jej działanie z funkcją `correct_solution` w metodach RandomSearch oraz GreedySearch. Przedstaw uśrednione wyniki (co najmniej 10 uruchomień) i wnioski."
   ]
  },
  {
   "cell_type": "code",
   "execution_count": 26,
   "metadata": {
    "deletable": false,
    "nbgrader": {
     "checksum": "824516409639f04efa3d993886ff74de",
     "grade": false,
     "grade_id": "cell-41decf2c421327cc",
     "locked": false,
     "schema_version": 1,
     "solution": true
    }
   },
   "outputs": [
    {
     "name": "stdout",
     "output_type": "stream",
     "text": [
      "Domyslna metoda search_greedy:\n",
      ">Suma wag: 1251.65\n",
      ">Suma wartosci: 1986.6\n",
      "Domyslna metoda search_random:\n",
      ">Suma wag: 1218.3\n",
      ">Suma wartosci: 1603.35\n",
      "\n",
      "Wlasna metoda search_greedy:\n",
      ">Suma wag: 1257.55\n",
      ">Suma wartosci: 2022.15\n",
      "Wlasna metoda search_random:\n",
      ">Suma wag: 1225.95\n",
      ">Suma wartosci: 1754.2\n"
     ]
    }
   ],
   "source": [
    "\n",
    "def correct_solution2(w, v, W, sol):\n",
    "    narr = v/w\n",
    "    \n",
    "    num = w.shape[0]\n",
    "    while w[sol].sum() > W:\n",
    "        result = np.where(narr == np.amin(narr[sol]))\n",
    "        indx = result[0]\n",
    "        #print(narr)\n",
    "        #print(indx)\n",
    "        sol[indx] = False\n",
    "        \n",
    "def get_random_solution_v2(w, v, W):\n",
    "    num = w.shape[0]\n",
    "    sol = np.random.randint(0,2, size=num, dtype=np.bool)  # 1 / True oznacza, ze przedmiot jest wybrany\n",
    "    _V = np.sum(v[sol])\n",
    "    _W = np.sum(w[sol])\n",
    "    if _W > W:\n",
    "        correct_solution2(w,v,W,sol)\n",
    "        _V = np.sum(v[sol])\n",
    "        _W = np.sum(w[sol])\n",
    "    return sol, _W, _V\n",
    "\n",
    "def search_greedy_improvement_v2(w, v, W, iters):\n",
    "    best_sol, best_W, best_V = get_random_solution_v2(w,v,W)\n",
    "    v_all = [best_V]\n",
    "    v_best = [best_V]\n",
    "    num = w.shape[0]\n",
    "    for i in range(iters):\n",
    "        sol = best_sol.copy()\n",
    "        #set random 0 bit to 1\n",
    "        indx = np.random.randint(num)\n",
    "        while sol[indx%num] == True:\n",
    "            indx = indx + 1\n",
    "        sol[indx%num] = True\n",
    "        #correct if needed\n",
    "        if w[sol].sum() > W:\n",
    "            correct_solution2(w,v,W,sol)\n",
    "        _V = v[sol].sum()\n",
    "        _W = w[sol].sum()\n",
    "        if best_V < _V:\n",
    "            best_sol, best_W, best_V = sol.copy(), _W, _V\n",
    "        v_all.append(_V)\n",
    "        v_best.append(best_V)\n",
    "\n",
    "    return best_sol, best_W, best_V, v_all, v_best \n",
    "\n",
    "\n",
    "def search_random_v2(w,v,W,iters):\n",
    "    best_sol, best_W, best_V = get_random_solution_v2(w,v,W)\n",
    "    v_all = [best_V]\n",
    "    v_best = [best_V]\n",
    "    for i in range(iters):\n",
    "        sol, _W, _V = get_random_solution_v2(w,v,W)\n",
    "        if best_V < _V:\n",
    "            best_sol, best_W, best_V = sol, _W, _V\n",
    "        v_all.append(_V)\n",
    "        v_best.append(best_V)\n",
    "    \n",
    "    return best_sol, best_W, best_V, v_all, v_best\n",
    "\n",
    "\n",
    "w, v = generate_problem(wmin, wmax, vmin, vmax, num)  # w - wagi, v - wartosci\n",
    "Wall = w.sum()\n",
    "Vall = v.sum()\n",
    "W = int(knapsack_perc * Wall) # pojemnosc plecaka\n",
    "num = w.shape[0]\n",
    "\n",
    "##############\n",
    "#ILOSC TESTOW#\n",
    "##############\n",
    "tests = 20\n",
    "##############\n",
    "\n",
    "sol_greedys,sol_random_searchs,sol_greedys2,sol_random_searchs2 = np.ndarray(shape=(tests,2)),np.ndarray(shape=(tests,2)),np.ndarray(shape=(tests,2)),np.ndarray(shape=(tests,2))\n",
    "for i in range(tests):\n",
    "    g = search_greedy_improvement(w,v,W,1000)\n",
    "    rs = search_random(w, v, W, 1000)\n",
    "    sol_greedys[i] = [g[1], g[2]]\n",
    "    sol_random_searchs[i] = [rs[1], rs[2]]\n",
    "    #v2\n",
    "    g = search_greedy_improvement_v2(w,v,W,1000)\n",
    "    rs = search_random_v2(w, v, W, 1000)\n",
    "    sol_greedys2[i] = [g[1], g[2]]\n",
    "    sol_random_searchs2[i] = [rs[1], rs[2]]\n",
    "    \n",
    "print(\"Domyslna metoda search_greedy:\")\n",
    "print('>Suma wag:', np.sum(a=sol_greedys, axis=0)[0]/tests)\n",
    "print('>Suma wartosci:', np.sum(a=sol_greedys, axis=0)[1]/tests)\n",
    "print(\"Domyslna metoda search_random:\")\n",
    "print('>Suma wag:', np.sum(a=sol_random_searchs, axis=0)[0]/tests)\n",
    "print('>Suma wartosci:', np.sum(a=sol_random_searchs, axis=0)[1]/tests)\n",
    "print(\"\\nWlasna metoda search_greedy:\")\n",
    "print('>Suma wag:', np.sum(a=sol_greedys2, axis=0)[0]/tests)\n",
    "print('>Suma wartosci:', np.sum(a=sol_greedys2, axis=0)[1]/tests)\n",
    "print(\"Wlasna metoda search_random:\")\n",
    "print('>Suma wag:', np.sum(a=sol_random_searchs2, axis=0)[0]/tests)\n",
    "print('>Suma wartosci:', np.sum(a=sol_random_searchs2, axis=0)[1]/tests)\n"
   ]
  },
  {
   "cell_type": "markdown",
   "metadata": {
    "deletable": false,
    "editable": false,
    "nbgrader": {
     "checksum": "9a71a23c92a91acff8cc4b8a9a4cf54b",
     "grade": false,
     "grade_id": "cell-b966a790bb02c5ff",
     "locked": true,
     "schema_version": 1,
     "solution": false
    }
   },
   "source": [
    "Twoje wyniki i wnioski umieść w komórce poniżej."
   ]
  },
  {
   "cell_type": "markdown",
   "metadata": {
    "deletable": false,
    "nbgrader": {
     "checksum": "1b3886349f2227736931eb05c8c9f21c",
     "grade": true,
     "grade_id": "cell-bc34d6cdc8893118",
     "locked": false,
     "points": 2,
     "schema_version": 1,
     "solution": true
    }
   },
   "source": [
    "Wnioski:\n",
    "1. W metodzie GreedySearch nie jest zauważalna duza roznica. Wynika to glownie z faktu poprawiania obecnego wyniku.\n",
    "2. Z kolei w metodzie RandomSearch widzimy za to znaczna poprawe przekraczajaca 10%. Tutaj głównie owa optymalizacja sie przydaje ze wzgledu ciaglej losowosci."
   ]
  },
  {
   "cell_type": "code",
   "execution_count": 19,
   "metadata": {
    "deletable": false,
    "editable": false,
    "nbgrader": {
     "checksum": "4f591132a1e22de2080867289b5c578c",
     "grade": true,
     "grade_id": "cell-6942f41af0594e26",
     "locked": true,
     "points": 1,
     "schema_version": 1,
     "solution": false
    }
   },
   "outputs": [],
   "source": [
    "#Komórka z autotestem"
   ]
  },
  {
   "cell_type": "markdown",
   "metadata": {
    "deletable": false,
    "editable": false,
    "nbgrader": {
     "checksum": "662a677a99d45fab34a3ee097ff80f97",
     "grade": false,
     "grade_id": "cell-09617854aa85463c",
     "locked": true,
     "schema_version": 1,
     "solution": false
    }
   },
   "source": [
    "## Zadanie 3 (6 pkt.)\n",
    "\n",
    "Dostosuj swoją implementację algorytmu genetycznego do problemu plecakowego. \n",
    "\n",
    "- Jakie wyniki można uzyskać z jego pomocą? Czy działa on zawsze lepiej niż inne heurystyki?\n",
    "\n",
    "- Która procedura naprawcza działa lepiej w algorytmie genetycznym?\n",
    "\n",
    "- Przedstaw wnioski na podstawie uśrednionych wyników dla problemów plecakowych o rozmiarze 50, 100, 300.\n",
    "\n",
    "- Problemy plecakowe i najlepsze znalezione rozwiązania zapisz do plików.\n",
    "\n",
    "UWAGA! Po wygenerowaniu problemu plecakowego, przed uruchomieniem algorytmu genetycznego (lub innego) wywołaj:\n",
    "\n",
    "`np.random.seed(int(time.time()))`\n",
    "\n",
    "tak by problem plecakowy generował się ten sam, ale algorytmy miały szansę na nowy przebieg."
   ]
  },
  {
   "cell_type": "code",
   "execution_count": 20,
   "metadata": {
    "deletable": false,
    "nbgrader": {
     "checksum": "8950eb042791815aea41950e36146531",
     "grade": false,
     "grade_id": "cell-7c876ab6cbd0e807",
     "locked": false,
     "schema_version": 1,
     "solution": true
    }
   },
   "outputs": [
    {
     "name": "stdout",
     "output_type": "stream",
     "text": [
      "Problem plecakowy rozmiaru 50\n",
      "Problem plecakowy:\n",
      "pojemnosc plecaka: 1243\n",
      "wagi: [35  6 64 18 35 62 47 82 38 27 89 51 94  8 29 14 29 51 77 82 46 36 35  5\n",
      " 63 35 95 86 38 12  2 54 95 81 93 11 24 56 24 71 68 36 90 50 69 84  3 17\n",
      " 93 76] suma: 2486\n",
      "wartosci: [18 83  6  5 38 42 34 93 82 46 74  9 84 80 29 91 37 24 37 79 67 81 78 57\n",
      " 59 54 99 13 34 90 47 82 65 82 95 25 24 31 45 78 51  4 46 98 41 30 49 77\n",
      "  8 56] suma: 2657\n",
      "Algorytm genetyczny korekcji losowej:\n",
      "Zapisuje najwyzszy wynik do pliku\n",
      ">Srednia waga: 1206.5\n",
      ">Srednia wartosc: 1581.75\n",
      "Algorytm genetyczny korekcji napisanej przez nas:\n",
      "Zapisuje najwyzszy wynik do pliku\n",
      ">Srednia waga: 1213.05\n",
      ">Srednia wartosc: 1767.8\n",
      "Rozwiazanie heurystyka random_search:\n",
      ">Srednia waga: 1220.9\n",
      ">Srednia wartosc: 1688.05\n",
      "Rozwiazanie heurystyka greedy_search:\n",
      ">Srednia waga: 1237.35\n",
      ">Srednia wartosc: 2033.8\n",
      "Rozwiazanie heurystyka value_first:\n",
      ">Srednia waga: 1242.0\n",
      ">Srednia wartosc: 1830.0\n",
      "Rozwiazanie heurystyka ratio_first:\n",
      ">Srednia waga: 1239.0\n",
      ">Srednia wartosc: 2063.0\n",
      "\n",
      "\n",
      "Problem plecakowy rozmiaru 100\n",
      "Problem plecakowy:\n",
      "pojemnosc plecaka: 2571\n",
      "wagi: [35  6 64 18 35 62 47 82 38 27 89 51 94  8 29 14 29 51 77 82 46 36 35  5\n",
      " 63 35 95 86 38 12  2 54 95 81 93 11 24 56 24 71 68 36 90 50 69 84  3 17\n",
      " 93 76 18 83  6  5 38 42 34 93 82 46 74  9 84 80 29 91 37 24 37 79 67 81\n",
      " 78 57 59 54 99 13 34 90 47 82 65 82 95 25 24 31 45 78 51  4 46 98 41 30\n",
      " 49 77  8 56] suma: 5143\n",
      "wartosci: [70 40 28  9 18 98 43 36  9 18 98 73 28 86 81 73 18 96 34 76 73 72 95 20\n",
      " 41 28 51 22  9 83 15 11  3 43 70 25 83 96 50 75 82 33 57 54 56  6 29 81\n",
      " 57  2 29 91 37 27 59 43 84 56 37 75 72 80 54 10 87 69 95 35 75 74  7 21\n",
      " 31 63 18 70 91  7 39 22 17 36 59 40 35 81 97 87 96 35 19 72 92 96 24 90\n",
      " 89 62 54 61] suma: 5254\n",
      "Algorytm genetyczny korekcji losowej:\n",
      "Zapisuje najwyzszy wynik do pliku\n",
      ">Srednia waga: 2536.2\n",
      ">Srednia wartosc: 3040.2\n",
      "Algorytm genetyczny korekcji napisanej przez nas:\n",
      "Zapisuje najwyzszy wynik do pliku\n",
      ">Srednia waga: 2531.6\n",
      ">Srednia wartosc: 3323.95\n",
      "Rozwiazanie heurystyka random_search:\n",
      ">Srednia waga: 2545.9\n",
      ">Srednia wartosc: 3173.45\n",
      "Rozwiazanie heurystyka greedy_search:\n",
      ">Srednia waga: 2565.7\n",
      ">Srednia wartosc: 4129.35\n",
      "Rozwiazanie heurystyka value_first:\n",
      ">Srednia waga: 2571.0\n",
      ">Srednia wartosc: 4056.0\n",
      "Rozwiazanie heurystyka ratio_first:\n",
      ">Srednia waga: 2568.0\n",
      ">Srednia wartosc: 4240.0\n",
      "\n",
      "\n",
      "Problem plecakowy rozmiaru 300\n",
      "Problem plecakowy:\n",
      "pojemnosc plecaka: 7685\n",
      "wagi: [35  6 64 18 35 62 47 82 38 27 89 51 94  8 29 14 29 51 77 82 46 36 35  5\n",
      " 63 35 95 86 38 12  2 54 95 81 93 11 24 56 24 71 68 36 90 50 69 84  3 17\n",
      " 93 76 18 83  6  5 38 42 34 93 82 46 74  9 84 80 29 91 37 24 37 79 67 81\n",
      " 78 57 59 54 99 13 34 90 47 82 65 82 95 25 24 31 45 78 51  4 46 98 41 30\n",
      " 49 77  8 56 70 40 28  9 18 98 43 36  9 18 98 73 28 86 81 73 18 96 34 76\n",
      " 73 72 95 20 41 28 51 22  9 83 15 11  3 43 70 25 83 96 50 75 82 33 57 54\n",
      " 56  6 29 81 57  2 29 91 37 27 59 43 84 56 37 75 72 80 54 10 87 69 95 35\n",
      " 75 74  7 21 31 63 18 70 91  7 39 22 17 36 59 40 35 81 97 87 96 35 19 72\n",
      " 92 96 24 90 89 62 54 61  2  1 87 36 95 30 37 84 67 22 96 66  8 88 58 19\n",
      " 27 86 13 49 38  1 22 90 61 19 21 49 96 30 42 49 76 65 73 14 56 67 65  6\n",
      " 83 92 81 17 72 21 35 62 73 75 38  9 97 78 90 78 32 37 91 11 79 72 72 40\n",
      " 26 82 58 71 67 69 63 11  1 60 85 11 17 50 29 85 22  9 66  8 38 47 82 76\n",
      "  2 65 30 51 95 21 67 13 69 39 42  1] suma: 15371\n",
      "wartosci: [38 92 37 82 12 24 89 90  7 75  1 59  7  9 71 15 27 89 99 50 25  9 27  6\n",
      "  3 92 32 45 34  8 92 13 99 93 16 75 12 49 32 34 30 61 82 40 91 85 86 35\n",
      " 42 29 55 47 42  4 48 54 65 41 87 23 45 50  9 63 93 97  3 76 39 77 92 59\n",
      " 94 16 69 73  2 64 50  4 22 45 40 24 97 57 30 66 26  9 36  9 60 30 34 75\n",
      " 50 12 69 88 26 40 96 13 18 58 16 50 96  6 55 65 89 39 47 72 48 42  3 82\n",
      " 13 73 48  1 85 28  2  2 35 42 98 75 18 39 68  2 28 26 67 42  1 23 99 88\n",
      " 63  9 21 54 39 89 69 62  5  9  2 12 99 14 59 15 24 67 27 40 62 16 96 76\n",
      " 64 23 66  4 63 30 87 77 79 13  6 21 82 31 23 86 27 16 53 69 15 59 62 69\n",
      " 58 43 55 14 62 72 32 12 27 96 66 98 65 90 48 57  4  8 96  2 70 47 28 44\n",
      " 26 37 21 37 49 75 36 61 40 43 99 83 81 57  4 83 72 70  9 55 22 62 71  7\n",
      " 48 10 68 88 65 29 50 52 24 96 66 50 37 44 42 89 40 28 67  5 95 47 98 90\n",
      " 44 25  1  5 52 77 90 78  9  9 77 13 67 44 32 20 67 67 40  2 32 30 56  9\n",
      " 10 39  6 25 43 49 28 24 58 23 34 95] suma: 13990\n",
      "Algorytm genetyczny korekcji losowej:\n",
      "Zapisuje najwyzszy wynik do pliku\n",
      ">Srednia waga: 7630.05\n",
      ">Srednia wartosc: 7728.55\n",
      "Algorytm genetyczny korekcji napisanej przez nas:\n",
      "Zapisuje najwyzszy wynik do pliku\n",
      ">Srednia waga: 7637.4\n",
      ">Srednia wartosc: 8214.1\n",
      "Rozwiazanie heurystyka random_search:\n",
      ">Srednia waga: 7639.35\n",
      ">Srednia wartosc: 7892.55\n",
      "Rozwiazanie heurystyka greedy_search:\n",
      ">Srednia waga: 7673.25\n",
      ">Srednia wartosc: 10403.7\n",
      "Rozwiazanie heurystyka value_first:\n",
      ">Srednia waga: 7685.0\n",
      ">Srednia wartosc: 10670.0\n",
      "Rozwiazanie heurystyka ratio_first:\n",
      ">Srednia waga: 7684.0\n",
      ">Srednia wartosc: 11227.0\n",
      "\n",
      "\n"
     ]
    }
   ],
   "source": [
    "import numpy as np\n",
    "import matplotlib.pyplot as plt\n",
    "import time\n",
    "%matplotlib notebook\n",
    "\n",
    "class modif():\n",
    "    mode = 1\n",
    "    \n",
    "def correct_solution1(w, v, W, sol):\n",
    "    #print(\"1\")\n",
    "    num = w.shape[0]\n",
    "    while w[sol].sum() > W:\n",
    "        indx = np.random.randint(num)\n",
    "        while sol[indx%num] == False:\n",
    "            indx = indx + 1\n",
    "        sol[indx%num] = False\n",
    "    return sol\n",
    "\n",
    "\n",
    "def correct_solution2(w, v, W, sol):\n",
    "    #print(\"2\")\n",
    "    narr = v / w\n",
    "    num = w.shape[0]\n",
    "    while w[sol].sum() > W:\n",
    "        result = np.where(narr == np.amin(narr[sol]))\n",
    "        indx = result[0]\n",
    "        \n",
    "        sol[indx] = False\n",
    "    return sol\n",
    "\n",
    "\n",
    "def generate_problem(wmin, wmax, vmin, vmax, items_num):\n",
    "    w = np.random.randint(wmin, wmax, size=items_num)  #weight\n",
    "    v = np.random.randint(vmin, vmax, size=items_num)  #values\n",
    "    return w, v\n",
    "\n",
    "\n",
    "def gen_pop(w, v, W, pop_size):\n",
    "    pop = np.random.randint(0, 2, size=(pop_size, len(w)), dtype=np.bool)\n",
    "    for p in pop:\n",
    "        if modif.mode==1:\n",
    "            #print(\"Metoda naprawcza 1\")\n",
    "            p = correct_solution1(w, v, W, p)\n",
    "        else:\n",
    "            #print(\"Metoda naprawcza 2\")\n",
    "            p = correct_solution2(w, v, W, p)\n",
    "    return pop\n",
    "\n",
    "def evaluate(pop, v):\n",
    "    evaluated_pop = np.zeros(shape=len(pop), dtype=\"float\")\n",
    "    for i in range(len(pop)):\n",
    "        evaluated_pop[i] = np.sum(v[pop[i]])\n",
    "    #print(evaluated_pop)\n",
    "    return evaluated_pop\n",
    "\n",
    "#Selekcja\n",
    "def select(pop, evals):\n",
    "    sum = np.sum(evals)\n",
    "    new_pop = np.copy(pop)\n",
    "    roulet = np.zeros(shape=len(evals), dtype=\"float\")\n",
    "    for i in range(len(evals)):\n",
    "        roulet[i] = roulet[i-1] + (evals[i] / sum)\n",
    "    for i in range(len(pop)):\n",
    "        rand = np.random.rand()\n",
    "        for j in range(len(evals)):\n",
    "            if evals[j] > rand:\n",
    "                new_pop[i] = pop[j]\n",
    "                break\n",
    "\n",
    "    return new_pop\n",
    "\n",
    "\n",
    "#Krzyzowanie\n",
    "def xover(pop, pc, w, v, W):  # pc - prawdopodobienstwo krzyzowania\n",
    "    new_pop = np.copy(pop)\n",
    "    for i in range(0, len(pop)-1, 2):\n",
    "        if np.random.rand() <= pc:\n",
    "            point = int(np.random.rand() * (len(pop[i]) - 1))\n",
    "            narr1 = np.concatenate((pop[i][0:point], pop[i+1][point:]))\n",
    "            narr2 = np.concatenate((pop[i+1][0:point], pop[i][point:]))\n",
    "            new_pop[i] = np.array(narr1)\n",
    "            new_pop[i+1] = np.array(narr2)\n",
    "            \n",
    "    #Wybor implementacji metody poprawczej\n",
    "    for p in new_pop:\n",
    "        if modif.mode==1:\n",
    "            p = correct_solution1(w, v, W, p)\n",
    "        else:\n",
    "            p = correct_solution2(w, v, W, p)\n",
    "\n",
    "    return new_pop\n",
    "\n",
    "\n",
    "#Mutacja\n",
    "def mutate(pop, pm, w, v, W):  # pm - prawdopodobienstwo mutacji, pop = rozwiazanie\n",
    "    \n",
    "    for i in range(len(pop)):\n",
    "        for j in range(len(pop[i])):\n",
    "            if np.random.rand() <= pm:\n",
    "                if pop[i][j] == True:\n",
    "                    pop[i][j] = False\n",
    "                else:\n",
    "                    pop[i][j] = True\n",
    "                    \n",
    "        #Wybor implementacji metody poprawczej\n",
    "        if modif.mode==1:\n",
    "            pop[i] = correct_solution1(w, v, W, pop[i])\n",
    "        else:\n",
    "            pop[i] = correct_solution2(w, v, W, pop[i])\n",
    "            \n",
    "    return pop\n",
    "\n",
    "\n",
    "def evolve_knapsack(w, v, W, pop_size, pxover, pmutate, generations):\n",
    "    pop = gen_pop(w, v, W, pop_size)\n",
    "    evals = evaluate(pop, v)\n",
    "    i = np.argmax(evals)\n",
    "    best = pop[i].copy()\n",
    "    best_V = evals[i]\n",
    "    best_iter = 0\n",
    "    v_all = [best_V]\n",
    "    v_best = [best_V]\n",
    "    v_mean = [np.mean(evals)]\n",
    "\n",
    "    for i in range(generations):\n",
    "        pop = select(pop, evals)\n",
    "        pop = xover(pop, pxover, w, v, W)\n",
    "        pop = mutate(pop, pmutate, w, v, W)\n",
    "        evals = evaluate(pop, v)\n",
    "        ii = np.argmax(evals)\n",
    "        temp_best_v = evals[ii]\n",
    "        if temp_best_v > best_V:\n",
    "            best_V = temp_best_v\n",
    "            best_iter = i + 1\n",
    "            best = pop[ii].copy()\n",
    "        v_all.append(temp_best_v)\n",
    "        v_best.append(best_V)\n",
    "        v_mean.append(np.mean(evals))\n",
    "\n",
    "    #plt.plot(v_best, 'r')\n",
    "    #plt.plot(v_all, 'g')\n",
    "    #plt.plot(v_mean, 'b')\n",
    "    #plt.show()\n",
    "    return best, w[best].sum(), best_V\n",
    "\n",
    "\n",
    "def test(corr_sol, tests, w, v, W, pop_size, pxover, pmutate, generations):\n",
    "    cs = corr_sol\n",
    "    wbests = np.zeros(shape=tests, dtype=\"float\")\n",
    "    vbests = np.zeros(shape=tests, dtype=\"float\")\n",
    "    pbests = np.zeros(shape=(tests, len(w)) , dtype=\"bool\")\n",
    "    for t in range(tests):\n",
    "        best, best_w, best_v = evolve_knapsack(w, v, W, pop_size, pxover, pmutate, generations)\n",
    "        \n",
    "        pbests[t] = best\n",
    "        wbests[t] = best_w\n",
    "        vbests[t] = best_v\n",
    "    \n",
    "    ##Najlepszy osobnik\n",
    "    result = np.argmax(vbests)\n",
    "    best_pop = pbests[result]\n",
    "    return np.average(wbests), np.average(vbests), best_pop\n",
    "\n",
    "def gen_multi_test(rozmiar_problemu):\n",
    "    num = rozmiar_problemu  # liczba przedmiotów\n",
    "    wmin = 1  # minimlana waga\n",
    "    wmax = 100  # maksymalna waga\n",
    "    vmin = 1  # minimalna wartosc\n",
    "    vmax = 100  # maksymalna wartosc\n",
    "    knapsack_perc = 0.5  # pojemnosc plecaka jako procent sumy wag wszystkich przedmiotow\n",
    "\n",
    "\n",
    "    #ustawienie ziarna\n",
    "    np.random.seed(125701)\n",
    "\n",
    "    w, v = generate_problem(wmin, wmax, vmin, vmax, num)  # w - wagi, v - wartosci\n",
    "    Wall = w.sum()\n",
    "    Vall = v.sum()\n",
    "    W = int(knapsack_perc * Wall) # pojemnosc plecaka\n",
    "    print(\"Problem plecakowy rozmiaru\", num)\n",
    "    print('Problem plecakowy:')\n",
    "    print('pojemnosc plecaka:', W)\n",
    "    print('wagi:',w, 'suma:', Wall)\n",
    "    print('wartosci:',v, 'suma:', Vall)\n",
    "\n",
    "    np.random.seed(int(time.time()))\n",
    "\n",
    "    pop_size = 50\n",
    "    pxover = 0.9\n",
    "    pmutate = 0.02\n",
    "    generations = 100\n",
    "    tests = 20\n",
    "    \n",
    "    \n",
    "    \n",
    "    #Test 1\n",
    "    modif.mode = 1\n",
    "    w1, v1, bpop1 = test(1, tests, w, v, W, pop_size, pxover, pmutate, generations)\n",
    "    print(\"Algorytm genetyczny korekcji losowej:\")\n",
    "    np.savetxt('Algorytm_genetyczny_korekcji_losowej_rozmiaru' + str(num) + \".out\", bpop1, delimiter=',')\n",
    "    print(\"Zapisuje najwyzszy wynik do pliku\")\n",
    "    print(\">Srednia waga:\", w1)\n",
    "    print(\">Srednia wartosc:\", v1)\n",
    "\n",
    "    #Test 2\n",
    "    modif.mode = 2\n",
    "    w2, v2, bpop2 = test(2, tests, w, v, W, pop_size, pxover, pmutate, generations)\n",
    "    print(\"Algorytm genetyczny korekcji napisanej przez nas:\")\n",
    "    np.savetxt('Algorytm_genetyczny_korekcji_losowej_own_rozmiaru' + str(num) + \".out\", bpop2, delimiter=',')\n",
    "    print(\"Zapisuje najwyzszy wynik do pliku\")\n",
    "    print(\">Srednia waga:\", w2)\n",
    "    print(\">Srednia wartosc:\", v2)\n",
    "\n",
    "    \n",
    "def heu_multi_test(rozmiar_problemu):\n",
    "    num = rozmiar_problemu  # liczba przedmiotów\n",
    "    wmin = 1  # minimlana waga\n",
    "    wmax = 100  # maksymalna waga\n",
    "    vmin = 1  # minimalna wartosc\n",
    "    vmax = 100  # maksymalna wartosc\n",
    "    knapsack_perc = 0.5  # pojemnosc plecaka jako procent sumy wag wszystkich przedmiotow\n",
    "\n",
    "\n",
    "    #ustawienie ziarna\n",
    "    np.random.seed(125701)\n",
    "\n",
    "    w, v = generate_problem(wmin, wmax, vmin, vmax, num)  # w - wagi, v - wartosci\n",
    "    Wall = w.sum()\n",
    "    Vall = v.sum()\n",
    "    W = int(knapsack_perc * Wall)\n",
    "    \n",
    "    tests = 20\n",
    "\n",
    "    np.random.seed(int(time.time()))    \n",
    "    \n",
    "    #Test 1\n",
    "    print(\"Rozwiazanie heurystyka random_search:\")\n",
    "    wbests = np.zeros(shape=tests, dtype=\"float\")\n",
    "    vbests = np.zeros(shape=tests, dtype=\"float\")\n",
    "    for i in range(tests):\n",
    "        sol_random_search = search_random(w, v, W, 1000)\n",
    "        wbests[i] = sol_random_search[1]\n",
    "        vbests[i] = sol_random_search[2]\n",
    "    \n",
    "    print('>Srednia waga:', np.average(wbests))\n",
    "    print('>Srednia wartosc:', np.average(vbests))\n",
    "\n",
    "    #Test 2\n",
    "    print(\"Rozwiazanie heurystyka greedy_search:\")\n",
    "    wbests = np.zeros(shape=tests, dtype=\"float\")\n",
    "    vbests = np.zeros(shape=tests, dtype=\"float\")\n",
    "    for i in range(tests):\n",
    "        sol_greedy = search_greedy_improvement(w, v, W, 1000)\n",
    "        wbests[i] = sol_greedy[1]\n",
    "        vbests[i] = sol_greedy[2]\n",
    "    \n",
    "    print('>Srednia waga:', np.average(wbests))\n",
    "    print('>Srednia wartosc:', np.average(vbests))\n",
    "    \n",
    "    #Test 3\n",
    "    print(\"Rozwiazanie heurystyka value_first:\")\n",
    "    wbests = np.zeros(shape=tests, dtype=\"float\")\n",
    "    vbests = np.zeros(shape=tests, dtype=\"float\")\n",
    "    for i in range(tests):\n",
    "        sol_value_first = get_value_first(w, v, W)\n",
    "        wbests[i] = sol_value_first[1]\n",
    "        vbests[i] = sol_value_first[2]\n",
    "    \n",
    "    print('>Srednia waga:', np.average(wbests))\n",
    "    print('>Srednia wartosc:', np.average(vbests))\n",
    "    \n",
    "    #Test 4\n",
    "    print(\"Rozwiazanie heurystyka ratio_first:\")\n",
    "    wbests = np.zeros(shape=tests, dtype=\"float\")\n",
    "    vbests = np.zeros(shape=tests, dtype=\"float\")\n",
    "    for i in range(tests):\n",
    "        sol_ratio_first = get_ratio_first(w, v, W)\n",
    "        wbests[i] = sol_ratio_first[1]\n",
    "        vbests[i] = sol_ratio_first[2]\n",
    "    \n",
    "    print('>Srednia waga:', np.average(wbests))\n",
    "    print('>Srednia wartosc:', np.average(vbests))\n",
    "    print(\"\\n\")\n",
    "    \n",
    "    \n",
    "#zmienna globalna\n",
    "cs=0\n",
    "gen_multi_test(50)\n",
    "heu_multi_test(50)\n",
    "gen_multi_test(100)\n",
    "heu_multi_test(100)\n",
    "gen_multi_test(300)\n",
    "heu_multi_test(300)"
   ]
  },
  {
   "cell_type": "markdown",
   "metadata": {
    "deletable": false,
    "editable": false,
    "nbgrader": {
     "checksum": "c340f36b966cd88940cb5354eebf92cc",
     "grade": false,
     "grade_id": "cell-605dc77605840e07",
     "locked": true,
     "schema_version": 1,
     "solution": false
    }
   },
   "source": [
    "Twoje wyniki i wnioski umieść w komórce poniżej."
   ]
  },
  {
   "cell_type": "markdown",
   "metadata": {
    "deletable": false,
    "nbgrader": {
     "checksum": "c11f4cf2abed46c4cebc036e6a0600b6",
     "grade": true,
     "grade_id": "cell-c47453adeedaa14d",
     "locked": false,
     "points": 6,
     "schema_version": 1,
     "solution": true
    }
   },
   "source": [
    "Testy wykonane dla 1000 pokolen w algorytmach genetycznych oraz 1000 iteracji w metodach heurystycznych. Ilość osobników nie wpływała znacznie na wyniki testów.\n",
    "***\n",
    "Jakie wyniki można uzyskać z jego pomocą? Czy działa on zawsze lepiej niż inne heurystyki?\n",
    ">Z powyzszych wynikow uzyskujemy wnioski:\n",
    "1. Algorytm genetyczny działa lepiej tylko od metody przeszukiwania losowego, pozostałe heurystyki osiagaja wyższe rezultaty.\n",
    "2. Najlepsza okazuje sie heurystyka ratio_first\n",
    "3. Algorytm genetyczny jest wyraźnie wolniejszą metodą\n",
    "***\n",
    "Która procedura naprawcza działa lepiej w algorytmie genetycznym?\n",
    "1. Dla wielokrotnego uruchomienia testu metoda ktora tworzylismy jest znacznie lepsza.\n",
    "2. Wraz ze wzrostem rozmiaru plecaka różnica rośnie tylko nieznacznie.\n",
    "***\n",
    "Przedstaw wnioski na podstawie uśrednionych wyników dla problemów plecakowych o rozmiarze 50, 100, 300:\n",
    "1. Przewaga najlepszej heurystyki wzgledem algorytmu genetycznego rosnie wraz pojemnoscia plecaka. Dla rozmiaru 50 wynosi ona 10% a dla rozmiaru 300 juz prawie 25%.\n",
    "2. Wykorzystenie heurystyk jest w przypadku tego zadanie lepszym pomysłem. Działanie algorytmu osiaga zblizone wyniki do najgorszej heurystyki, pozostałe osiagaja duzo lepsze wyniki.\n",
    "3. Czas wykonywania sie algorytmu dla wiekszych problemow genetycznych trwałby zbyt długo, juz dla problemu=300 trwało to kilkadziesiat sekund. Heurystyki tymczasem wykonały to samo zadanie ponizej jednej sekundy.\n",
    "***\n",
    "Wyniki:\n",
    "1. Problem plecakowy rozmiaru 50, pojemnosc plecaka 1243:\n",
    "    1. Algorytm genetyczny korekcji losowej:\n",
    "        1. Srednia waga: 1214.9\n",
    "        2. Srednia wartosc: 1795.9\n",
    "    2. Algorytm genetyczny korekcji napisanej przez nas:\n",
    "        1. Srednia waga: 1217.4\n",
    "        2. Srednia wartosc: 1807.9\n",
    "    3. Rozwiazanie heurystyka random_search:\n",
    "        1. Srednia waga: 1222.6\n",
    "        2. Srednia wartosc: 1677.1\n",
    "    4. Rozwiazanie heurystyka greedy_search:\n",
    "        1. Srednia waga: 1237.15\n",
    "        2. Srednia wartosc: 2021.8\n",
    "    5. Rozwiazanie heurystyka value_first:\n",
    "        1. Srednia waga: 1242.0\n",
    "        2. Srednia wartosc: 1830.0\n",
    "    6. Rozwiazanie heurystyka ratio_first:\n",
    "        1. Srednia waga: 1239.0\n",
    "        2. Srednia wartosc: 2063.0\n",
    "\n",
    "2. Problem plecakowy rozmiaru 100, pojemnosc plecaka 2571:\n",
    "    1. Algorytm genetyczny korekcji losowej:\n",
    "        1. Srednia waga: 2524.9\n",
    "        2. Srednia wartosc: 3362.2\n",
    "    2. Algorytm genetyczny korekcji napisanej przez nas:\n",
    "        1. Srednia waga: 2533.7\n",
    "        2. Srednia wartosc: 3378.35\n",
    "    3. Rozwiazanie heurystyka random_search:\n",
    "        1. Srednia waga: 2537.9\n",
    "        2. Srednia wartosc: 3182.4\n",
    "    4. Rozwiazanie heurystyka greedy_search:\n",
    "        1. Srednia waga: 2564.4\n",
    "        2. Srednia wartosc: 4119.3\n",
    "    5. Rozwiazanie heurystyka value_first:\n",
    "        1. Srednia waga: 2571.0\n",
    "        2. Srednia wartosc: 4056.0\n",
    "    6. Rozwiazanie heurystyka ratio_first:\n",
    "        1. Srednia waga: 2568.0\n",
    "        2. Srednia wartosc: 4240.0\n",
    "\n",
    "3. Problem plecakowy rozmiaru 300, pojemnosc plecaka 7685:\n",
    "    1. Algorytm genetyczny korekcji losowej:\n",
    "        1. Srednia waga: 7654.5\n",
    "        2. Srednia wartosc: 8300.6\n",
    "    2. Algorytm genetyczny korekcji napisanej przez nas:\n",
    "        1. Srednia waga: 7641.0\n",
    "        2. Srednia wartosc: 8256.55\n",
    "    3. Rozwiazanie heurystyka random_search:\n",
    "        1. Srednia waga: 7619.45\n",
    "        2. Srednia wartosc: 7895.95\n",
    "    4. Rozwiazanie heurystyka greedy_search:\n",
    "        1. Srednia waga: 7679.15\n",
    "        2. Srednia wartosc: 10397.9\n",
    "    5. Rozwiazanie heurystyka value_first:\n",
    "        1. Srednia waga: 7685.0\n",
    "        2. Srednia wartosc: 10670.0\n",
    "    6. Rozwiazanie heurystyka ratio_first:\n",
    "        1. Srednia waga: 7684.0\n",
    "        2. Srednia wartosc: 11227.0"
   ]
  },
  {
   "cell_type": "markdown",
   "metadata": {
    "deletable": false,
    "editable": false,
    "nbgrader": {
     "checksum": "22a892ad8206e6bb4fc40a8269fd2edc",
     "grade": false,
     "grade_id": "cell-299e037cb4bc73bb",
     "locked": true,
     "schema_version": 1,
     "solution": false
    }
   },
   "source": [
    "<div style=\"text-align: right\">&copy; Zakład Inteligencji Obliczeniowej, Instytut Informatyki, Politechnika Krakowska </div>"
   ]
  },
  {
   "cell_type": "code",
   "execution_count": null,
   "metadata": {},
   "outputs": [],
   "source": []
  }
 ],
 "metadata": {
  "kernelspec": {
   "display_name": "Python 3",
   "language": "python",
   "name": "python3"
  },
  "language_info": {
   "codemirror_mode": {
    "name": "ipython",
    "version": 3
   },
   "file_extension": ".py",
   "mimetype": "text/x-python",
   "name": "python",
   "nbconvert_exporter": "python",
   "pygments_lexer": "ipython3",
   "version": "3.6.8"
  }
 },
 "nbformat": 4,
 "nbformat_minor": 2
}
